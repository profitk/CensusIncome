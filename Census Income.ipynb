{
 "cells": [
  {
   "cell_type": "markdown",
   "metadata": {},
   "source": [
    " #  Kris Profit"
   ]
  },
  {
   "cell_type": "markdown",
   "metadata": {},
   "source": [
    "---"
   ]
  },
  {
   "cell_type": "markdown",
   "metadata": {},
   "source": [
    "# Adult Data Set\n",
    "### Also known as \"Census Income\" dataset\n",
    "\n",
    "### Predict whether income exceeds 50K per year based on census data"
   ]
  },
  {
   "cell_type": "markdown",
   "metadata": {},
   "source": [
    "---"
   ]
  },
  {
   "cell_type": "markdown",
   "metadata": {},
   "source": [
    "# Import Packages"
   ]
  },
  {
   "cell_type": "code",
   "execution_count": 1,
   "metadata": {},
   "outputs": [],
   "source": [
    "%matplotlib inline \n",
    "import numpy as np\n",
    "import matplotlib.pyplot as plt\n",
    "import pandas as pd\n",
    "import math\n",
    "\n",
    "from sklearn import preprocessing, svm, tree\n",
    "from sklearn.model_selection  import train_test_split, cross_val_score, KFold\n",
    "from sklearn.model_selection import GridSearchCV\n",
    "from sklearn.metrics import accuracy_score, precision_score, recall_score, f1_score\n",
    "from sklearn.metrics import roc_curve, auc, confusion_matrix, classification_report\n",
    "from sklearn.linear_model import Lasso, Ridge, ElasticNet\n",
    "\n",
    "import seaborn as sns\n",
    "\n",
    "import time\n",
    "from operator import itemgetter\n",
    "import os\n",
    "\n",
    "import warnings\n",
    "warnings.filterwarnings(\"ignore\")"
   ]
  },
  {
   "cell_type": "markdown",
   "metadata": {},
   "source": [
    "---"
   ]
  },
  {
   "cell_type": "markdown",
   "metadata": {},
   "source": [
    "# Import Dataset"
   ]
  },
  {
   "cell_type": "code",
   "execution_count": 120,
   "metadata": {},
   "outputs": [
    {
     "data": {
      "text/plain": [
       "(32561, 15)"
      ]
     },
     "execution_count": 120,
     "metadata": {},
     "output_type": "execute_result"
    }
   ],
   "source": [
    "Adult_Original = pd.read_csv('https://archive.ics.uci.edu/ml/machine-learning-databases/adult/adult.data',header=None,\n",
    "                        na_values='?')\n",
    "\n",
    "Adult_Original.shape\n"
   ]
  },
  {
   "cell_type": "code",
   "execution_count": 121,
   "metadata": {},
   "outputs": [
    {
     "name": "stdout",
     "output_type": "stream",
     "text": [
      "Int64Index([0, 1, 2, 3, 4, 5, 6, 7, 8, 9, 10, 11, 12, 13, 14], dtype='int64')\n"
     ]
    },
    {
     "data": {
      "text/html": [
       "<div>\n",
       "<style scoped>\n",
       "    .dataframe tbody tr th:only-of-type {\n",
       "        vertical-align: middle;\n",
       "    }\n",
       "\n",
       "    .dataframe tbody tr th {\n",
       "        vertical-align: top;\n",
       "    }\n",
       "\n",
       "    .dataframe thead th {\n",
       "        text-align: right;\n",
       "    }\n",
       "</style>\n",
       "<table border=\"1\" class=\"dataframe\">\n",
       "  <thead>\n",
       "    <tr style=\"text-align: right;\">\n",
       "      <th></th>\n",
       "      <th>0</th>\n",
       "      <th>1</th>\n",
       "      <th>2</th>\n",
       "      <th>3</th>\n",
       "      <th>4</th>\n",
       "      <th>5</th>\n",
       "      <th>6</th>\n",
       "      <th>7</th>\n",
       "      <th>8</th>\n",
       "      <th>9</th>\n",
       "      <th>10</th>\n",
       "      <th>11</th>\n",
       "      <th>12</th>\n",
       "      <th>13</th>\n",
       "      <th>14</th>\n",
       "    </tr>\n",
       "  </thead>\n",
       "  <tbody>\n",
       "    <tr>\n",
       "      <th>0</th>\n",
       "      <td>39</td>\n",
       "      <td>State-gov</td>\n",
       "      <td>77516</td>\n",
       "      <td>Bachelors</td>\n",
       "      <td>13</td>\n",
       "      <td>Never-married</td>\n",
       "      <td>Adm-clerical</td>\n",
       "      <td>Not-in-family</td>\n",
       "      <td>White</td>\n",
       "      <td>Male</td>\n",
       "      <td>2174</td>\n",
       "      <td>0</td>\n",
       "      <td>40</td>\n",
       "      <td>United-States</td>\n",
       "      <td>&lt;=50K</td>\n",
       "    </tr>\n",
       "    <tr>\n",
       "      <th>1</th>\n",
       "      <td>50</td>\n",
       "      <td>Self-emp-not-inc</td>\n",
       "      <td>83311</td>\n",
       "      <td>Bachelors</td>\n",
       "      <td>13</td>\n",
       "      <td>Married-civ-spouse</td>\n",
       "      <td>Exec-managerial</td>\n",
       "      <td>Husband</td>\n",
       "      <td>White</td>\n",
       "      <td>Male</td>\n",
       "      <td>0</td>\n",
       "      <td>0</td>\n",
       "      <td>13</td>\n",
       "      <td>United-States</td>\n",
       "      <td>&lt;=50K</td>\n",
       "    </tr>\n",
       "    <tr>\n",
       "      <th>2</th>\n",
       "      <td>38</td>\n",
       "      <td>Private</td>\n",
       "      <td>215646</td>\n",
       "      <td>HS-grad</td>\n",
       "      <td>9</td>\n",
       "      <td>Divorced</td>\n",
       "      <td>Handlers-cleaners</td>\n",
       "      <td>Not-in-family</td>\n",
       "      <td>White</td>\n",
       "      <td>Male</td>\n",
       "      <td>0</td>\n",
       "      <td>0</td>\n",
       "      <td>40</td>\n",
       "      <td>United-States</td>\n",
       "      <td>&lt;=50K</td>\n",
       "    </tr>\n",
       "    <tr>\n",
       "      <th>3</th>\n",
       "      <td>53</td>\n",
       "      <td>Private</td>\n",
       "      <td>234721</td>\n",
       "      <td>11th</td>\n",
       "      <td>7</td>\n",
       "      <td>Married-civ-spouse</td>\n",
       "      <td>Handlers-cleaners</td>\n",
       "      <td>Husband</td>\n",
       "      <td>Black</td>\n",
       "      <td>Male</td>\n",
       "      <td>0</td>\n",
       "      <td>0</td>\n",
       "      <td>40</td>\n",
       "      <td>United-States</td>\n",
       "      <td>&lt;=50K</td>\n",
       "    </tr>\n",
       "    <tr>\n",
       "      <th>4</th>\n",
       "      <td>28</td>\n",
       "      <td>Private</td>\n",
       "      <td>338409</td>\n",
       "      <td>Bachelors</td>\n",
       "      <td>13</td>\n",
       "      <td>Married-civ-spouse</td>\n",
       "      <td>Prof-specialty</td>\n",
       "      <td>Wife</td>\n",
       "      <td>Black</td>\n",
       "      <td>Female</td>\n",
       "      <td>0</td>\n",
       "      <td>0</td>\n",
       "      <td>40</td>\n",
       "      <td>Cuba</td>\n",
       "      <td>&lt;=50K</td>\n",
       "    </tr>\n",
       "  </tbody>\n",
       "</table>\n",
       "</div>"
      ],
      "text/plain": [
       "   0                  1       2           3   4                    5   \\\n",
       "0  39          State-gov   77516   Bachelors  13        Never-married   \n",
       "1  50   Self-emp-not-inc   83311   Bachelors  13   Married-civ-spouse   \n",
       "2  38            Private  215646     HS-grad   9             Divorced   \n",
       "3  53            Private  234721        11th   7   Married-civ-spouse   \n",
       "4  28            Private  338409   Bachelors  13   Married-civ-spouse   \n",
       "\n",
       "                   6               7       8        9     10  11  12  \\\n",
       "0        Adm-clerical   Not-in-family   White     Male  2174   0  40   \n",
       "1     Exec-managerial         Husband   White     Male     0   0  13   \n",
       "2   Handlers-cleaners   Not-in-family   White     Male     0   0  40   \n",
       "3   Handlers-cleaners         Husband   Black     Male     0   0  40   \n",
       "4      Prof-specialty            Wife   Black   Female     0   0  40   \n",
       "\n",
       "               13      14  \n",
       "0   United-States   <=50K  \n",
       "1   United-States   <=50K  \n",
       "2   United-States   <=50K  \n",
       "3   United-States   <=50K  \n",
       "4            Cuba   <=50K  "
      ]
     },
     "execution_count": 121,
     "metadata": {},
     "output_type": "execute_result"
    }
   ],
   "source": [
    "print(Adult_Original.columns)\n",
    "Adult_Original.head()"
   ]
  },
  {
   "cell_type": "markdown",
   "metadata": {},
   "source": [
    "#### Need to insert column names"
   ]
  },
  {
   "cell_type": "code",
   "execution_count": 122,
   "metadata": {},
   "outputs": [
    {
     "data": {
      "text/html": [
       "<div>\n",
       "<style scoped>\n",
       "    .dataframe tbody tr th:only-of-type {\n",
       "        vertical-align: middle;\n",
       "    }\n",
       "\n",
       "    .dataframe tbody tr th {\n",
       "        vertical-align: top;\n",
       "    }\n",
       "\n",
       "    .dataframe thead th {\n",
       "        text-align: right;\n",
       "    }\n",
       "</style>\n",
       "<table border=\"1\" class=\"dataframe\">\n",
       "  <thead>\n",
       "    <tr style=\"text-align: right;\">\n",
       "      <th></th>\n",
       "      <th>age</th>\n",
       "      <th>workclass</th>\n",
       "      <th>fnlwgt</th>\n",
       "      <th>education</th>\n",
       "      <th>education-num</th>\n",
       "      <th>marital-status</th>\n",
       "      <th>occupation</th>\n",
       "      <th>relationship</th>\n",
       "      <th>race</th>\n",
       "      <th>sex</th>\n",
       "      <th>capital-gain</th>\n",
       "      <th>capital-loss</th>\n",
       "      <th>hours-per-week</th>\n",
       "      <th>native-country</th>\n",
       "      <th>income</th>\n",
       "    </tr>\n",
       "  </thead>\n",
       "  <tbody>\n",
       "    <tr>\n",
       "      <th>0</th>\n",
       "      <td>39</td>\n",
       "      <td>State-gov</td>\n",
       "      <td>77516</td>\n",
       "      <td>Bachelors</td>\n",
       "      <td>13</td>\n",
       "      <td>Never-married</td>\n",
       "      <td>Adm-clerical</td>\n",
       "      <td>Not-in-family</td>\n",
       "      <td>White</td>\n",
       "      <td>Male</td>\n",
       "      <td>2174</td>\n",
       "      <td>0</td>\n",
       "      <td>40</td>\n",
       "      <td>United-States</td>\n",
       "      <td>&lt;=50K</td>\n",
       "    </tr>\n",
       "    <tr>\n",
       "      <th>1</th>\n",
       "      <td>50</td>\n",
       "      <td>Self-emp-not-inc</td>\n",
       "      <td>83311</td>\n",
       "      <td>Bachelors</td>\n",
       "      <td>13</td>\n",
       "      <td>Married-civ-spouse</td>\n",
       "      <td>Exec-managerial</td>\n",
       "      <td>Husband</td>\n",
       "      <td>White</td>\n",
       "      <td>Male</td>\n",
       "      <td>0</td>\n",
       "      <td>0</td>\n",
       "      <td>13</td>\n",
       "      <td>United-States</td>\n",
       "      <td>&lt;=50K</td>\n",
       "    </tr>\n",
       "    <tr>\n",
       "      <th>2</th>\n",
       "      <td>38</td>\n",
       "      <td>Private</td>\n",
       "      <td>215646</td>\n",
       "      <td>HS-grad</td>\n",
       "      <td>9</td>\n",
       "      <td>Divorced</td>\n",
       "      <td>Handlers-cleaners</td>\n",
       "      <td>Not-in-family</td>\n",
       "      <td>White</td>\n",
       "      <td>Male</td>\n",
       "      <td>0</td>\n",
       "      <td>0</td>\n",
       "      <td>40</td>\n",
       "      <td>United-States</td>\n",
       "      <td>&lt;=50K</td>\n",
       "    </tr>\n",
       "    <tr>\n",
       "      <th>3</th>\n",
       "      <td>53</td>\n",
       "      <td>Private</td>\n",
       "      <td>234721</td>\n",
       "      <td>11th</td>\n",
       "      <td>7</td>\n",
       "      <td>Married-civ-spouse</td>\n",
       "      <td>Handlers-cleaners</td>\n",
       "      <td>Husband</td>\n",
       "      <td>Black</td>\n",
       "      <td>Male</td>\n",
       "      <td>0</td>\n",
       "      <td>0</td>\n",
       "      <td>40</td>\n",
       "      <td>United-States</td>\n",
       "      <td>&lt;=50K</td>\n",
       "    </tr>\n",
       "    <tr>\n",
       "      <th>4</th>\n",
       "      <td>28</td>\n",
       "      <td>Private</td>\n",
       "      <td>338409</td>\n",
       "      <td>Bachelors</td>\n",
       "      <td>13</td>\n",
       "      <td>Married-civ-spouse</td>\n",
       "      <td>Prof-specialty</td>\n",
       "      <td>Wife</td>\n",
       "      <td>Black</td>\n",
       "      <td>Female</td>\n",
       "      <td>0</td>\n",
       "      <td>0</td>\n",
       "      <td>40</td>\n",
       "      <td>Cuba</td>\n",
       "      <td>&lt;=50K</td>\n",
       "    </tr>\n",
       "  </tbody>\n",
       "</table>\n",
       "</div>"
      ],
      "text/plain": [
       "   age          workclass  fnlwgt   education  education-num  \\\n",
       "0   39          State-gov   77516   Bachelors             13   \n",
       "1   50   Self-emp-not-inc   83311   Bachelors             13   \n",
       "2   38            Private  215646     HS-grad              9   \n",
       "3   53            Private  234721        11th              7   \n",
       "4   28            Private  338409   Bachelors             13   \n",
       "\n",
       "        marital-status          occupation    relationship    race      sex  \\\n",
       "0        Never-married        Adm-clerical   Not-in-family   White     Male   \n",
       "1   Married-civ-spouse     Exec-managerial         Husband   White     Male   \n",
       "2             Divorced   Handlers-cleaners   Not-in-family   White     Male   \n",
       "3   Married-civ-spouse   Handlers-cleaners         Husband   Black     Male   \n",
       "4   Married-civ-spouse      Prof-specialty            Wife   Black   Female   \n",
       "\n",
       "   capital-gain  capital-loss  hours-per-week  native-country  income  \n",
       "0          2174             0              40   United-States   <=50K  \n",
       "1             0             0              13   United-States   <=50K  \n",
       "2             0             0              40   United-States   <=50K  \n",
       "3             0             0              40   United-States   <=50K  \n",
       "4             0             0              40            Cuba   <=50K  "
      ]
     },
     "execution_count": 122,
     "metadata": {},
     "output_type": "execute_result"
    }
   ],
   "source": [
    "Adult_Original.columns = ['age','workclass','fnlwgt','education','education-num','marital-status','occupation',\n",
    "                     'relationship','race','sex','capital-gain','capital-loss','hours-per-week','native-country',\n",
    "                     'income']\n",
    "Adult_Original.head(5)"
   ]
  },
  {
   "cell_type": "markdown",
   "metadata": {},
   "source": [
    "There is a 'test set' given from the UCI Machine Learning Repository. I am going to append that to the dataframe before moving forward. I am choosing to append now and split into train/test later to get a more thorough look at the data. Need to skip first row when importing, since there is an irregular row that makes the DF read as one column."
   ]
  },
  {
   "cell_type": "code",
   "execution_count": 123,
   "metadata": {},
   "outputs": [
    {
     "name": "stdout",
     "output_type": "stream",
     "text": [
      "(16281, 15)\n"
     ]
    },
    {
     "data": {
      "text/html": [
       "<div>\n",
       "<style scoped>\n",
       "    .dataframe tbody tr th:only-of-type {\n",
       "        vertical-align: middle;\n",
       "    }\n",
       "\n",
       "    .dataframe tbody tr th {\n",
       "        vertical-align: top;\n",
       "    }\n",
       "\n",
       "    .dataframe thead th {\n",
       "        text-align: right;\n",
       "    }\n",
       "</style>\n",
       "<table border=\"1\" class=\"dataframe\">\n",
       "  <thead>\n",
       "    <tr style=\"text-align: right;\">\n",
       "      <th></th>\n",
       "      <th>0</th>\n",
       "      <th>1</th>\n",
       "      <th>2</th>\n",
       "      <th>3</th>\n",
       "      <th>4</th>\n",
       "      <th>5</th>\n",
       "      <th>6</th>\n",
       "      <th>7</th>\n",
       "      <th>8</th>\n",
       "      <th>9</th>\n",
       "      <th>10</th>\n",
       "      <th>11</th>\n",
       "      <th>12</th>\n",
       "      <th>13</th>\n",
       "      <th>14</th>\n",
       "    </tr>\n",
       "  </thead>\n",
       "  <tbody>\n",
       "    <tr>\n",
       "      <th>0</th>\n",
       "      <td>25</td>\n",
       "      <td>Private</td>\n",
       "      <td>226802</td>\n",
       "      <td>11th</td>\n",
       "      <td>7</td>\n",
       "      <td>Never-married</td>\n",
       "      <td>Machine-op-inspct</td>\n",
       "      <td>Own-child</td>\n",
       "      <td>Black</td>\n",
       "      <td>Male</td>\n",
       "      <td>0</td>\n",
       "      <td>0</td>\n",
       "      <td>40</td>\n",
       "      <td>United-States</td>\n",
       "      <td>&lt;=50K.</td>\n",
       "    </tr>\n",
       "    <tr>\n",
       "      <th>1</th>\n",
       "      <td>38</td>\n",
       "      <td>Private</td>\n",
       "      <td>89814</td>\n",
       "      <td>HS-grad</td>\n",
       "      <td>9</td>\n",
       "      <td>Married-civ-spouse</td>\n",
       "      <td>Farming-fishing</td>\n",
       "      <td>Husband</td>\n",
       "      <td>White</td>\n",
       "      <td>Male</td>\n",
       "      <td>0</td>\n",
       "      <td>0</td>\n",
       "      <td>50</td>\n",
       "      <td>United-States</td>\n",
       "      <td>&lt;=50K.</td>\n",
       "    </tr>\n",
       "    <tr>\n",
       "      <th>2</th>\n",
       "      <td>28</td>\n",
       "      <td>Local-gov</td>\n",
       "      <td>336951</td>\n",
       "      <td>Assoc-acdm</td>\n",
       "      <td>12</td>\n",
       "      <td>Married-civ-spouse</td>\n",
       "      <td>Protective-serv</td>\n",
       "      <td>Husband</td>\n",
       "      <td>White</td>\n",
       "      <td>Male</td>\n",
       "      <td>0</td>\n",
       "      <td>0</td>\n",
       "      <td>40</td>\n",
       "      <td>United-States</td>\n",
       "      <td>&gt;50K.</td>\n",
       "    </tr>\n",
       "  </tbody>\n",
       "</table>\n",
       "</div>"
      ],
      "text/plain": [
       "   0           1       2            3   4                    5   \\\n",
       "0  25     Private  226802         11th   7        Never-married   \n",
       "1  38     Private   89814      HS-grad   9   Married-civ-spouse   \n",
       "2  28   Local-gov  336951   Assoc-acdm  12   Married-civ-spouse   \n",
       "\n",
       "                   6           7       8      9   10  11  12              13  \\\n",
       "0   Machine-op-inspct   Own-child   Black   Male   0   0  40   United-States   \n",
       "1     Farming-fishing     Husband   White   Male   0   0  50   United-States   \n",
       "2     Protective-serv     Husband   White   Male   0   0  40   United-States   \n",
       "\n",
       "        14  \n",
       "0   <=50K.  \n",
       "1   <=50K.  \n",
       "2    >50K.  "
      ]
     },
     "execution_count": 123,
     "metadata": {},
     "output_type": "execute_result"
    }
   ],
   "source": [
    "Adult_test_data = pd.read_csv('https://archive.ics.uci.edu/ml/machine-learning-databases/adult/adult.test',header = None,\n",
    "                             na_values = '?',skiprows = 1)\n",
    "print(Adult_test_data.shape)\n",
    "Adult_test_data.head(3)"
   ]
  },
  {
   "cell_type": "code",
   "execution_count": 124,
   "metadata": {},
   "outputs": [
    {
     "data": {
      "text/html": [
       "<div>\n",
       "<style scoped>\n",
       "    .dataframe tbody tr th:only-of-type {\n",
       "        vertical-align: middle;\n",
       "    }\n",
       "\n",
       "    .dataframe tbody tr th {\n",
       "        vertical-align: top;\n",
       "    }\n",
       "\n",
       "    .dataframe thead th {\n",
       "        text-align: right;\n",
       "    }\n",
       "</style>\n",
       "<table border=\"1\" class=\"dataframe\">\n",
       "  <thead>\n",
       "    <tr style=\"text-align: right;\">\n",
       "      <th></th>\n",
       "      <th>age</th>\n",
       "      <th>workclass</th>\n",
       "      <th>fnlwgt</th>\n",
       "      <th>education</th>\n",
       "      <th>education-num</th>\n",
       "      <th>marital-status</th>\n",
       "      <th>occupation</th>\n",
       "      <th>relationship</th>\n",
       "      <th>race</th>\n",
       "      <th>sex</th>\n",
       "      <th>capital-gain</th>\n",
       "      <th>capital-loss</th>\n",
       "      <th>hours-per-week</th>\n",
       "      <th>native-country</th>\n",
       "      <th>income</th>\n",
       "    </tr>\n",
       "  </thead>\n",
       "  <tbody>\n",
       "    <tr>\n",
       "      <th>0</th>\n",
       "      <td>25</td>\n",
       "      <td>Private</td>\n",
       "      <td>226802</td>\n",
       "      <td>11th</td>\n",
       "      <td>7</td>\n",
       "      <td>Never-married</td>\n",
       "      <td>Machine-op-inspct</td>\n",
       "      <td>Own-child</td>\n",
       "      <td>Black</td>\n",
       "      <td>Male</td>\n",
       "      <td>0</td>\n",
       "      <td>0</td>\n",
       "      <td>40</td>\n",
       "      <td>United-States</td>\n",
       "      <td>&lt;=50K.</td>\n",
       "    </tr>\n",
       "    <tr>\n",
       "      <th>1</th>\n",
       "      <td>38</td>\n",
       "      <td>Private</td>\n",
       "      <td>89814</td>\n",
       "      <td>HS-grad</td>\n",
       "      <td>9</td>\n",
       "      <td>Married-civ-spouse</td>\n",
       "      <td>Farming-fishing</td>\n",
       "      <td>Husband</td>\n",
       "      <td>White</td>\n",
       "      <td>Male</td>\n",
       "      <td>0</td>\n",
       "      <td>0</td>\n",
       "      <td>50</td>\n",
       "      <td>United-States</td>\n",
       "      <td>&lt;=50K.</td>\n",
       "    </tr>\n",
       "    <tr>\n",
       "      <th>2</th>\n",
       "      <td>28</td>\n",
       "      <td>Local-gov</td>\n",
       "      <td>336951</td>\n",
       "      <td>Assoc-acdm</td>\n",
       "      <td>12</td>\n",
       "      <td>Married-civ-spouse</td>\n",
       "      <td>Protective-serv</td>\n",
       "      <td>Husband</td>\n",
       "      <td>White</td>\n",
       "      <td>Male</td>\n",
       "      <td>0</td>\n",
       "      <td>0</td>\n",
       "      <td>40</td>\n",
       "      <td>United-States</td>\n",
       "      <td>&gt;50K.</td>\n",
       "    </tr>\n",
       "  </tbody>\n",
       "</table>\n",
       "</div>"
      ],
      "text/plain": [
       "   age   workclass  fnlwgt    education  education-num       marital-status  \\\n",
       "0   25     Private  226802         11th              7        Never-married   \n",
       "1   38     Private   89814      HS-grad              9   Married-civ-spouse   \n",
       "2   28   Local-gov  336951   Assoc-acdm             12   Married-civ-spouse   \n",
       "\n",
       "           occupation relationship    race    sex  capital-gain  capital-loss  \\\n",
       "0   Machine-op-inspct    Own-child   Black   Male             0             0   \n",
       "1     Farming-fishing      Husband   White   Male             0             0   \n",
       "2     Protective-serv      Husband   White   Male             0             0   \n",
       "\n",
       "   hours-per-week  native-country   income  \n",
       "0              40   United-States   <=50K.  \n",
       "1              50   United-States   <=50K.  \n",
       "2              40   United-States    >50K.  "
      ]
     },
     "execution_count": 124,
     "metadata": {},
     "output_type": "execute_result"
    }
   ],
   "source": [
    "Adult_test_data.columns = ['age','workclass','fnlwgt','education','education-num','marital-status','occupation',\n",
    "                     'relationship','race','sex','capital-gain','capital-loss','hours-per-week','native-country',\n",
    "                     'income']\n",
    "Adult_test_data.head(3)"
   ]
  },
  {
   "cell_type": "markdown",
   "metadata": {},
   "source": [
    "Looks good, except that in column 14, there is a period at the end of each value. We'll need to remove that so there aren't four different target values. "
   ]
  },
  {
   "cell_type": "code",
   "execution_count": 125,
   "metadata": {},
   "outputs": [
    {
     "data": {
      "text/plain": [
       "0     <=50K\n",
       "1     <=50K\n",
       "2      >50K\n",
       "Name: income, dtype: object"
      ]
     },
     "execution_count": 125,
     "metadata": {},
     "output_type": "execute_result"
    }
   ],
   "source": [
    "Adult_test_data['income'] = Adult_test_data['income'].str.replace(\".\",\"\")\n",
    "\n",
    "Adult_test_data['income'].head(3)"
   ]
  },
  {
   "cell_type": "markdown",
   "metadata": {},
   "source": [
    "Period has been removed. Now let's append to the other dataframe."
   ]
  },
  {
   "cell_type": "code",
   "execution_count": 128,
   "metadata": {},
   "outputs": [
    {
     "data": {
      "text/plain": [
       "(48842, 15)"
      ]
     },
     "execution_count": 128,
     "metadata": {},
     "output_type": "execute_result"
    }
   ],
   "source": [
    "Adult_Original = Adult_Original.append(Adult_test_data,ignore_index = True)\n",
    "Adult_Original.shape"
   ]
  },
  {
   "cell_type": "markdown",
   "metadata": {},
   "source": [
    "We now have the full number of instances to continue with data prep and EDA."
   ]
  },
  {
   "cell_type": "markdown",
   "metadata": {},
   "source": [
    "### Move target feature to column 0"
   ]
  },
  {
   "cell_type": "code",
   "execution_count": 129,
   "metadata": {},
   "outputs": [
    {
     "data": {
      "text/html": [
       "<div>\n",
       "<style scoped>\n",
       "    .dataframe tbody tr th:only-of-type {\n",
       "        vertical-align: middle;\n",
       "    }\n",
       "\n",
       "    .dataframe tbody tr th {\n",
       "        vertical-align: top;\n",
       "    }\n",
       "\n",
       "    .dataframe thead th {\n",
       "        text-align: right;\n",
       "    }\n",
       "</style>\n",
       "<table border=\"1\" class=\"dataframe\">\n",
       "  <thead>\n",
       "    <tr style=\"text-align: right;\">\n",
       "      <th></th>\n",
       "      <th>income</th>\n",
       "      <th>age</th>\n",
       "      <th>workclass</th>\n",
       "      <th>fnlwgt</th>\n",
       "      <th>education</th>\n",
       "      <th>education-num</th>\n",
       "      <th>marital-status</th>\n",
       "      <th>occupation</th>\n",
       "      <th>relationship</th>\n",
       "      <th>race</th>\n",
       "      <th>sex</th>\n",
       "      <th>capital-gain</th>\n",
       "      <th>capital-loss</th>\n",
       "      <th>hours-per-week</th>\n",
       "      <th>native-country</th>\n",
       "    </tr>\n",
       "  </thead>\n",
       "  <tbody>\n",
       "    <tr>\n",
       "      <th>0</th>\n",
       "      <td>&lt;=50K</td>\n",
       "      <td>39</td>\n",
       "      <td>State-gov</td>\n",
       "      <td>77516</td>\n",
       "      <td>Bachelors</td>\n",
       "      <td>13</td>\n",
       "      <td>Never-married</td>\n",
       "      <td>Adm-clerical</td>\n",
       "      <td>Not-in-family</td>\n",
       "      <td>White</td>\n",
       "      <td>Male</td>\n",
       "      <td>2174</td>\n",
       "      <td>0</td>\n",
       "      <td>40</td>\n",
       "      <td>United-States</td>\n",
       "    </tr>\n",
       "    <tr>\n",
       "      <th>1</th>\n",
       "      <td>&lt;=50K</td>\n",
       "      <td>50</td>\n",
       "      <td>Self-emp-not-inc</td>\n",
       "      <td>83311</td>\n",
       "      <td>Bachelors</td>\n",
       "      <td>13</td>\n",
       "      <td>Married-civ-spouse</td>\n",
       "      <td>Exec-managerial</td>\n",
       "      <td>Husband</td>\n",
       "      <td>White</td>\n",
       "      <td>Male</td>\n",
       "      <td>0</td>\n",
       "      <td>0</td>\n",
       "      <td>13</td>\n",
       "      <td>United-States</td>\n",
       "    </tr>\n",
       "    <tr>\n",
       "      <th>2</th>\n",
       "      <td>&lt;=50K</td>\n",
       "      <td>38</td>\n",
       "      <td>Private</td>\n",
       "      <td>215646</td>\n",
       "      <td>HS-grad</td>\n",
       "      <td>9</td>\n",
       "      <td>Divorced</td>\n",
       "      <td>Handlers-cleaners</td>\n",
       "      <td>Not-in-family</td>\n",
       "      <td>White</td>\n",
       "      <td>Male</td>\n",
       "      <td>0</td>\n",
       "      <td>0</td>\n",
       "      <td>40</td>\n",
       "      <td>United-States</td>\n",
       "    </tr>\n",
       "  </tbody>\n",
       "</table>\n",
       "</div>"
      ],
      "text/plain": [
       "   income  age          workclass  fnlwgt   education  education-num  \\\n",
       "0   <=50K   39          State-gov   77516   Bachelors             13   \n",
       "1   <=50K   50   Self-emp-not-inc   83311   Bachelors             13   \n",
       "2   <=50K   38            Private  215646     HS-grad              9   \n",
       "\n",
       "        marital-status          occupation    relationship    race    sex  \\\n",
       "0        Never-married        Adm-clerical   Not-in-family   White   Male   \n",
       "1   Married-civ-spouse     Exec-managerial         Husband   White   Male   \n",
       "2             Divorced   Handlers-cleaners   Not-in-family   White   Male   \n",
       "\n",
       "   capital-gain  capital-loss  hours-per-week  native-country  \n",
       "0          2174             0              40   United-States  \n",
       "1             0             0              13   United-States  \n",
       "2             0             0              40   United-States  "
      ]
     },
     "execution_count": 129,
     "metadata": {},
     "output_type": "execute_result"
    }
   ],
   "source": [
    "# designate target variable name\n",
    "targetName = 'income'\n",
    "targetSeries = Adult_Original[targetName]\n",
    "#remove target from current location and insert in collum 0\n",
    "del Adult_Original[targetName]\n",
    "Adult_Original.insert(0, targetName, targetSeries)\n",
    "#reprint dataframe and see target is in position 0\n",
    "Adult_Original.head(3)"
   ]
  },
  {
   "cell_type": "markdown",
   "metadata": {},
   "source": [
    "### Check for missing values"
   ]
  },
  {
   "cell_type": "markdown",
   "metadata": {},
   "source": [
    "When importing the data, we set \"?\" values to be read as NA. Let's see how many there are. We may need to revisit this if there are other missing value entries such as \"-\" or \" \"."
   ]
  },
  {
   "cell_type": "code",
   "execution_count": 130,
   "metadata": {},
   "outputs": [
    {
     "data": {
      "text/plain": [
       "income            0\n",
       "age               0\n",
       "workclass         0\n",
       "fnlwgt            0\n",
       "education         0\n",
       "education-num     0\n",
       "marital-status    0\n",
       "occupation        0\n",
       "relationship      0\n",
       "race              0\n",
       "sex               0\n",
       "capital-gain      0\n",
       "capital-loss      0\n",
       "hours-per-week    0\n",
       "native-country    0\n",
       "dtype: int64"
      ]
     },
     "execution_count": 130,
     "metadata": {},
     "output_type": "execute_result"
    }
   ],
   "source": [
    "np.sum(Adult_Original.isnull())"
   ]
  },
  {
   "cell_type": "markdown",
   "metadata": {},
   "source": [
    "#### There are no missing values here (as far as we can tell)"
   ]
  },
  {
   "cell_type": "markdown",
   "metadata": {},
   "source": [
    "# Exploratory Data Analysis"
   ]
  },
  {
   "cell_type": "markdown",
   "metadata": {},
   "source": [
    "### Get data info\n",
    "\n",
    "What are the basic characteristics of the data? Are the data types appropriate for each attribute? Is there any need for standardiation?"
   ]
  },
  {
   "cell_type": "code",
   "execution_count": 131,
   "metadata": {},
   "outputs": [
    {
     "name": "stdout",
     "output_type": "stream",
     "text": [
      "<class 'pandas.core.frame.DataFrame'>\n",
      "RangeIndex: 48842 entries, 0 to 48841\n",
      "Data columns (total 15 columns):\n",
      "income            48842 non-null object\n",
      "age               48842 non-null int64\n",
      "workclass         48842 non-null object\n",
      "fnlwgt            48842 non-null int64\n",
      "education         48842 non-null object\n",
      "education-num     48842 non-null int64\n",
      "marital-status    48842 non-null object\n",
      "occupation        48842 non-null object\n",
      "relationship      48842 non-null object\n",
      "race              48842 non-null object\n",
      "sex               48842 non-null object\n",
      "capital-gain      48842 non-null int64\n",
      "capital-loss      48842 non-null int64\n",
      "hours-per-week    48842 non-null int64\n",
      "native-country    48842 non-null object\n",
      "dtypes: int64(6), object(9)\n",
      "memory usage: 5.6+ MB\n",
      "None\n",
      "                age        fnlwgt  education-num  capital-gain  capital-loss  \\\n",
      "count  48842.000000  4.884200e+04   48842.000000  48842.000000  48842.000000   \n",
      "mean      38.643585  1.896641e+05      10.078089   1079.067626     87.502314   \n",
      "std       13.710510  1.056040e+05       2.570973   7452.019058    403.004552   \n",
      "min       17.000000  1.228500e+04       1.000000      0.000000      0.000000   \n",
      "25%       28.000000  1.175505e+05       9.000000      0.000000      0.000000   \n",
      "50%       37.000000  1.781445e+05      10.000000      0.000000      0.000000   \n",
      "75%       48.000000  2.376420e+05      12.000000      0.000000      0.000000   \n",
      "max       90.000000  1.490400e+06      16.000000  99999.000000   4356.000000   \n",
      "\n",
      "       hours-per-week  \n",
      "count    48842.000000  \n",
      "mean        40.422382  \n",
      "std         12.391444  \n",
      "min          1.000000  \n",
      "25%         40.000000  \n",
      "50%         40.000000  \n",
      "75%         45.000000  \n",
      "max         99.000000  \n"
     ]
    }
   ],
   "source": [
    "print(Adult_Original.info())\n",
    "print(Adult_Original.describe())"
   ]
  },
  {
   "cell_type": "markdown",
   "metadata": {},
   "source": [
    "All attributes seem to be in appropriate data types. Capital-gain has much higher values than the other numeric types. We will standardize the attributes as we move forward so that they do not dominate the other numeric variables. "
   ]
  },
  {
   "cell_type": "markdown",
   "metadata": {},
   "source": [
    "### What is the distribution of the target?"
   ]
  },
  {
   "cell_type": "code",
   "execution_count": 132,
   "metadata": {},
   "outputs": [
    {
     "name": "stdout",
     "output_type": "stream",
     "text": [
      " <=50K    37155\n",
      " >50K     11687\n",
      "Name: income, dtype: int64\n"
     ]
    },
    {
     "data": {
      "image/png": "[encoded data removed]",
      "text/plain": [
       "<matplotlib.figure.Figure at 0x1a1a7413c8>"
      ]
     },
     "metadata": {},
     "output_type": "display_data"
    }
   ],
   "source": [
    "groupby = Adult_Original.groupby(targetName)\n",
    "targetEDA=groupby[targetName].aggregate(len)\n",
    "plt.figure()\n",
    "targetEDA.plot(kind='bar', grid=False)\n",
    "plt.axhline(0, color='k')\n",
    "\n",
    "print(Adult_Original.income.value_counts())"
   ]
  },
  {
   "cell_type": "markdown",
   "metadata": {},
   "source": [
    "The distribution of the target attribute is skewed toward <=50K. This may require oversampling techniques or parameter tuning to obtain an adequate number of instances from the positive class."
   ]
  },
  {
   "cell_type": "markdown",
   "metadata": {},
   "source": [
    "## What is the distribution of all attributes?"
   ]
  },
  {
   "cell_type": "code",
   "execution_count": 133,
   "metadata": {},
   "outputs": [
    {
     "data": {
      "image/png": "[encoded data removed]",
      "text/plain": [
       "<matplotlib.figure.Figure at 0x1a28ea06d8>"
      ]
     },
     "metadata": {},
     "output_type": "display_data"
    }
   ],
   "source": [
    "fig2 = plt.figure(figsize=(20,15))\n",
    "cols = 5\n",
    "rows = math.ceil(float(Adult_Original.shape[1]) / cols)\n",
    "for i, column in enumerate(Adult_Original.columns):\n",
    "    ax = fig2.add_subplot(rows, cols, i + 1)\n",
    "    ax.set_title(column)\n",
    "    if Adult_Original.dtypes[column] == np.object:\n",
    "        Adult_Original[column].value_counts().plot(kind=\"bar\", axes=ax)\n",
    "    else:\n",
    "        Adult_Original[column].hist(axes=ax)\n",
    "        plt.xticks(rotation=\"vertical\")\n",
    "plt.subplots_adjust(hspace=0.7, wspace=0.2)"
   ]
  },
  {
   "cell_type": "markdown",
   "metadata": {},
   "source": [
    "Looking at these graphs, it should be noted that there are over twice the number of instances with sex = Male, which also leads to very skewed distributions in the marital-status and relationship attributes. Race = white and native-country = United States also hold large majorities in their respective dimensions. These should be remembered as we move forward with the analysis. \n",
    "\n",
    "There do not seem to be any errors in the data, such as typos that return duplicates of the same value. There are categorical values of \"?\" in the workclass and occupation attributes. These are acceptable since they are not numeric attributes. The \"?\" category will simply be treated as \"unknown\".\n",
    "\n",
    "I noticed the attribute, \"fnlwgt\", and after discovering that it simply refers to the number of people that the census takers believed the instance to represent, I decided to remove it from the dataset."
   ]
  },
  {
   "cell_type": "markdown",
   "metadata": {},
   "source": [
    "## Create dummies and Standardize"
   ]
  },
  {
   "cell_type": "markdown",
   "metadata": {},
   "source": [
    "We need to convert the target attribute values to numeric so that scikit learn algorithms can process it. There are several categorical attributes that need to be turned into dummy variables (0,1) and there are continuous variables that should be standardized, those being 'capital-gain' and 'capital loss'"
   ]
  },
  {
   "cell_type": "code",
   "execution_count": 134,
   "metadata": {},
   "outputs": [
    {
     "name": "stderr",
     "output_type": "stream",
     "text": [
      "/Users/kristopherprofit/anaconda3/lib/python3.6/site-packages/sklearn/utils/validation.py:475: DataConversionWarning: Data with input dtype int64 was converted to float64 by the scale function.\n",
      "  warnings.warn(msg, DataConversionWarning)\n"
     ]
    }
   ],
   "source": [
    "# Create copy of df, drop 'fnlwgt'\n",
    "Adult = Adult_Original\n",
    "Adult = Adult.drop(columns=['fnlwgt'])\n",
    "\n",
    "# Target attribute transform\n",
    "from sklearn import preprocessing\n",
    "le_dep = preprocessing.LabelEncoder()\n",
    "#to convert into numbers\n",
    "Adult['income'] = le_dep.fit_transform(Adult['income'])\n",
    "\n",
    "# Dummies\n",
    "for col in Adult.columns[1:]:\n",
    "\tattName = col\n",
    "\tdType = Adult[col].dtype\n",
    "\tmissing = pd.isnull(Adult[col]).any()\n",
    "\tuniqueCount = len(Adult[attName].value_counts(normalize=False))\n",
    "\t# discretize (create dummies)\n",
    "\tif dType == object:\n",
    "\t\tAdult = pd.concat([Adult, pd.get_dummies(Adult[col], prefix=col)], axis=1)\n",
    "\t\tdel Adult[attName]\n",
    "        \n",
    "# Standardize\n",
    "Adult['capital-gain'] = preprocessing.scale(Adult['capital-gain'])\n",
    "Adult['capital-loss'] = preprocessing.scale(Adult['capital-loss'])"
   ]
  },
  {
   "cell_type": "markdown",
   "metadata": {},
   "source": [
    "Let's take a look at the dataframe after making these adjustments."
   ]
  },
  {
   "cell_type": "code",
   "execution_count": 135,
   "metadata": {},
   "outputs": [
    {
     "name": "stdout",
     "output_type": "stream",
     "text": [
      "(48842, 108)\n"
     ]
    },
    {
     "data": {
      "text/html": [
       "<div>\n",
       "<style scoped>\n",
       "    .dataframe tbody tr th:only-of-type {\n",
       "        vertical-align: middle;\n",
       "    }\n",
       "\n",
       "    .dataframe tbody tr th {\n",
       "        vertical-align: top;\n",
       "    }\n",
       "\n",
       "    .dataframe thead th {\n",
       "        text-align: right;\n",
       "    }\n",
       "</style>\n",
       "<table border=\"1\" class=\"dataframe\">\n",
       "  <thead>\n",
       "    <tr style=\"text-align: right;\">\n",
       "      <th></th>\n",
       "      <th>income</th>\n",
       "      <th>age</th>\n",
       "      <th>education-num</th>\n",
       "      <th>capital-gain</th>\n",
       "      <th>capital-loss</th>\n",
       "      <th>hours-per-week</th>\n",
       "      <th>workclass_ ?</th>\n",
       "      <th>workclass_ Federal-gov</th>\n",
       "      <th>workclass_ Local-gov</th>\n",
       "      <th>workclass_ Never-worked</th>\n",
       "      <th>...</th>\n",
       "      <th>native-country_ Portugal</th>\n",
       "      <th>native-country_ Puerto-Rico</th>\n",
       "      <th>native-country_ Scotland</th>\n",
       "      <th>native-country_ South</th>\n",
       "      <th>native-country_ Taiwan</th>\n",
       "      <th>native-country_ Thailand</th>\n",
       "      <th>native-country_ Trinadad&amp;Tobago</th>\n",
       "      <th>native-country_ United-States</th>\n",
       "      <th>native-country_ Vietnam</th>\n",
       "      <th>native-country_ Yugoslavia</th>\n",
       "    </tr>\n",
       "  </thead>\n",
       "  <tbody>\n",
       "    <tr>\n",
       "      <th>0</th>\n",
       "      <td>0</td>\n",
       "      <td>39</td>\n",
       "      <td>13</td>\n",
       "      <td>0.146932</td>\n",
       "      <td>-0.217127</td>\n",
       "      <td>40</td>\n",
       "      <td>0</td>\n",
       "      <td>0</td>\n",
       "      <td>0</td>\n",
       "      <td>0</td>\n",
       "      <td>...</td>\n",
       "      <td>0</td>\n",
       "      <td>0</td>\n",
       "      <td>0</td>\n",
       "      <td>0</td>\n",
       "      <td>0</td>\n",
       "      <td>0</td>\n",
       "      <td>0</td>\n",
       "      <td>1</td>\n",
       "      <td>0</td>\n",
       "      <td>0</td>\n",
       "    </tr>\n",
       "    <tr>\n",
       "      <th>1</th>\n",
       "      <td>0</td>\n",
       "      <td>50</td>\n",
       "      <td>13</td>\n",
       "      <td>-0.144804</td>\n",
       "      <td>-0.217127</td>\n",
       "      <td>13</td>\n",
       "      <td>0</td>\n",
       "      <td>0</td>\n",
       "      <td>0</td>\n",
       "      <td>0</td>\n",
       "      <td>...</td>\n",
       "      <td>0</td>\n",
       "      <td>0</td>\n",
       "      <td>0</td>\n",
       "      <td>0</td>\n",
       "      <td>0</td>\n",
       "      <td>0</td>\n",
       "      <td>0</td>\n",
       "      <td>1</td>\n",
       "      <td>0</td>\n",
       "      <td>0</td>\n",
       "    </tr>\n",
       "    <tr>\n",
       "      <th>2</th>\n",
       "      <td>0</td>\n",
       "      <td>38</td>\n",
       "      <td>9</td>\n",
       "      <td>-0.144804</td>\n",
       "      <td>-0.217127</td>\n",
       "      <td>40</td>\n",
       "      <td>0</td>\n",
       "      <td>0</td>\n",
       "      <td>0</td>\n",
       "      <td>0</td>\n",
       "      <td>...</td>\n",
       "      <td>0</td>\n",
       "      <td>0</td>\n",
       "      <td>0</td>\n",
       "      <td>0</td>\n",
       "      <td>0</td>\n",
       "      <td>0</td>\n",
       "      <td>0</td>\n",
       "      <td>1</td>\n",
       "      <td>0</td>\n",
       "      <td>0</td>\n",
       "    </tr>\n",
       "    <tr>\n",
       "      <th>3</th>\n",
       "      <td>0</td>\n",
       "      <td>53</td>\n",
       "      <td>7</td>\n",
       "      <td>-0.144804</td>\n",
       "      <td>-0.217127</td>\n",
       "      <td>40</td>\n",
       "      <td>0</td>\n",
       "      <td>0</td>\n",
       "      <td>0</td>\n",
       "      <td>0</td>\n",
       "      <td>...</td>\n",
       "      <td>0</td>\n",
       "      <td>0</td>\n",
       "      <td>0</td>\n",
       "      <td>0</td>\n",
       "      <td>0</td>\n",
       "      <td>0</td>\n",
       "      <td>0</td>\n",
       "      <td>1</td>\n",
       "      <td>0</td>\n",
       "      <td>0</td>\n",
       "    </tr>\n",
       "    <tr>\n",
       "      <th>4</th>\n",
       "      <td>0</td>\n",
       "      <td>28</td>\n",
       "      <td>13</td>\n",
       "      <td>-0.144804</td>\n",
       "      <td>-0.217127</td>\n",
       "      <td>40</td>\n",
       "      <td>0</td>\n",
       "      <td>0</td>\n",
       "      <td>0</td>\n",
       "      <td>0</td>\n",
       "      <td>...</td>\n",
       "      <td>0</td>\n",
       "      <td>0</td>\n",
       "      <td>0</td>\n",
       "      <td>0</td>\n",
       "      <td>0</td>\n",
       "      <td>0</td>\n",
       "      <td>0</td>\n",
       "      <td>0</td>\n",
       "      <td>0</td>\n",
       "      <td>0</td>\n",
       "    </tr>\n",
       "  </tbody>\n",
       "</table>\n",
       "<p>5 rows × 108 columns</p>\n",
       "</div>"
      ],
      "text/plain": [
       "   income  age  education-num  capital-gain  capital-loss  hours-per-week  \\\n",
       "0       0   39             13      0.146932     -0.217127              40   \n",
       "1       0   50             13     -0.144804     -0.217127              13   \n",
       "2       0   38              9     -0.144804     -0.217127              40   \n",
       "3       0   53              7     -0.144804     -0.217127              40   \n",
       "4       0   28             13     -0.144804     -0.217127              40   \n",
       "\n",
       "   workclass_ ?  workclass_ Federal-gov  workclass_ Local-gov  \\\n",
       "0             0                       0                     0   \n",
       "1             0                       0                     0   \n",
       "2             0                       0                     0   \n",
       "3             0                       0                     0   \n",
       "4             0                       0                     0   \n",
       "\n",
       "   workclass_ Never-worked             ...              \\\n",
       "0                        0             ...               \n",
       "1                        0             ...               \n",
       "2                        0             ...               \n",
       "3                        0             ...               \n",
       "4                        0             ...               \n",
       "\n",
       "   native-country_ Portugal  native-country_ Puerto-Rico  \\\n",
       "0                         0                            0   \n",
       "1                         0                            0   \n",
       "2                         0                            0   \n",
       "3                         0                            0   \n",
       "4                         0                            0   \n",
       "\n",
       "   native-country_ Scotland  native-country_ South  native-country_ Taiwan  \\\n",
       "0                         0                      0                       0   \n",
       "1                         0                      0                       0   \n",
       "2                         0                      0                       0   \n",
       "3                         0                      0                       0   \n",
       "4                         0                      0                       0   \n",
       "\n",
       "   native-country_ Thailand  native-country_ Trinadad&Tobago  \\\n",
       "0                         0                                0   \n",
       "1                         0                                0   \n",
       "2                         0                                0   \n",
       "3                         0                                0   \n",
       "4                         0                                0   \n",
       "\n",
       "   native-country_ United-States  native-country_ Vietnam  \\\n",
       "0                              1                        0   \n",
       "1                              1                        0   \n",
       "2                              1                        0   \n",
       "3                              1                        0   \n",
       "4                              0                        0   \n",
       "\n",
       "   native-country_ Yugoslavia  \n",
       "0                           0  \n",
       "1                           0  \n",
       "2                           0  \n",
       "3                           0  \n",
       "4                           0  \n",
       "\n",
       "[5 rows x 108 columns]"
      ]
     },
     "execution_count": 135,
     "metadata": {},
     "output_type": "execute_result"
    }
   ],
   "source": [
    "print(Adult.shape)\n",
    "Adult.head(5)\n"
   ]
  },
  {
   "cell_type": "markdown",
   "metadata": {},
   "source": [
    "# Partition Data"
   ]
  },
  {
   "cell_type": "code",
   "execution_count": 136,
   "metadata": {},
   "outputs": [],
   "source": [
    "features_train, features_test, target_train, target_test = train_test_split(\n",
    "    Adult.iloc[:,1:].values, Adult.iloc[:,0].values, test_size=0.4, random_state=0)"
   ]
  },
  {
   "cell_type": "markdown",
   "metadata": {},
   "source": [
    "Let's see how the split worked:"
   ]
  },
  {
   "cell_type": "code",
   "execution_count": 137,
   "metadata": {},
   "outputs": [
    {
     "name": "stdout",
     "output_type": "stream",
     "text": [
      "(19537, 107)\n",
      "(29305, 107)\n",
      "(19537,)\n",
      "(29305,)\n"
     ]
    }
   ],
   "source": [
    "print(features_test.shape)\n",
    "print(features_train.shape)\n",
    "print(target_test.shape)\n",
    "print(target_train.shape)"
   ]
  },
  {
   "cell_type": "markdown",
   "metadata": {},
   "source": [
    "# Baseline Decision Tree"
   ]
  },
  {
   "cell_type": "code",
   "execution_count": 138,
   "metadata": {},
   "outputs": [
    {
     "name": "stdout",
     "output_type": "stream",
     "text": [
      "DecisionTreeClassifier(class_weight=None, criterion='gini', max_depth=None,\n",
      "            max_features=None, max_leaf_nodes=None,\n",
      "            min_impurity_decrease=0.0, min_impurity_split=None,\n",
      "            min_samples_leaf=1, min_samples_split=2,\n",
      "            min_weight_fraction_leaf=0.0, presort=False, random_state=None,\n",
      "            splitter='best')\n"
     ]
    }
   ],
   "source": [
    "# Import tree from scikit learn\n",
    "from sklearn import tree\n",
    "# Call up model and assign it a name. \n",
    "BasicTree = tree.DecisionTreeClassifier()\n",
    "# Now see the parameters\n",
    "print(BasicTree)\n",
    "# Alter parameters\n",
    "BasicTree = tree.DecisionTreeClassifier()\n",
    "# Fit the model with partitioned set\n",
    "BasicTree = BasicTree.fit(features_train, target_train)\n",
    "# Now predict using the features test\n",
    "BasicTree_predict = BasicTree.predict(features_test)"
   ]
  },
  {
   "cell_type": "markdown",
   "metadata": {},
   "source": [
    "### What is the tree's accuracy?"
   ]
  },
  {
   "cell_type": "code",
   "execution_count": 139,
   "metadata": {},
   "outputs": [
    {
     "name": "stdout",
     "output_type": "stream",
     "text": [
      "Decision Tree Accuracy Score:  0.821927624507345\n",
      "             precision    recall  f1-score   support\n",
      "\n",
      "          0       0.88      0.89      0.88     14939\n",
      "          1       0.63      0.60      0.61      4598\n",
      "\n",
      "avg / total       0.82      0.82      0.82     19537\n",
      "\n"
     ]
    },
    {
     "data": {
      "text/plain": [
       "Text(0.5,1,'Confusion Matrix')"
      ]
     },
     "execution_count": 139,
     "metadata": {},
     "output_type": "execute_result"
    },
    {
     "data": {
      "image/png": "[encoded data removed]",
      "text/plain": [
       "<matplotlib.figure.Figure at 0x1a28ea31d0>"
      ]
     },
     "metadata": {},
     "output_type": "display_data"
    }
   ],
   "source": [
    "print('Decision Tree Accuracy Score: ', accuracy_score(target_test, BasicTree_predict))\n",
    "print(classification_report(target_test, BasicTree_predict))\n",
    "\n",
    "Tree_cm = confusion_matrix(target_test, BasicTree_predict)\n",
    "sns.heatmap(Tree_cm, annot=True, fmt=\"d\")\n",
    "plt.ylabel(\"Real value\")\n",
    "plt.xlabel(\"Predicted value\")\n",
    "plt.title(\"Confusion Matrix\")"
   ]
  },
  {
   "cell_type": "markdown",
   "metadata": {},
   "source": [
    "### Cross-Validation to check consistency of accuracy scores"
   ]
  },
  {
   "cell_type": "code",
   "execution_count": 88,
   "metadata": {},
   "outputs": [
    {
     "name": "stdout",
     "output_type": "stream",
     "text": [
      "CV Score for each K [0.82497441 0.81576254 0.81525077 0.80962129 0.81013306 0.81320368\n",
      " 0.81371546 0.79774706 0.80491551 0.81557377]\n",
      "CV mean score:  0.8120897548675223\n"
     ]
    }
   ],
   "source": [
    "# Will use K = 10\n",
    "BasicTree_CV_scores = cross_val_score(BasicTree, features_train, target_train, cv=10,scoring='accuracy')\n",
    "print('CV Score for each K', BasicTree_CV_scores)\n",
    "print('CV mean score: ', BasicTree_CV_scores.mean())  "
   ]
  },
  {
   "cell_type": "markdown",
   "metadata": {},
   "source": [
    "After cross-validation, the accuracy average was shown to be .812. There is good consistency among the accuracy scores for each K in the cross-validation, indicating the model did not overfit the train data. Although the accurcay of this model is quite good, the true positive rate was only .60, meaning that only 60% of instances with >50K income were correctly identified. While this metric value is not the worst in the world, it will hopefully improve as we move forward. The positive class not only had a less than desirebale recall, but the precision was .63. The F1 scores for the negative and positive calsses were .88 and .61, respectively. It is not surprising that the negative class had a much higher precision and recall, being that negative class instances far outweigh the positive class in this dataset.\n"
   ]
  },
  {
   "cell_type": "markdown",
   "metadata": {},
   "source": [
    "##### After giving thought to the metrics that should be focused on for this analysis, I have decided to focus primarily on the accuracy and  F1 scores, although I plan on taking a more granular approach and paying attention to recall and precision as well. Though F1 scores can give quick insight in evaluating a model, if two models have the same F1 scores, there is a need to look at recall and precision to further evaluate which one would be better."
   ]
  },
  {
   "cell_type": "markdown",
   "metadata": {},
   "source": [
    "This decision tree will act as a baseline as we construct and deploy different black box models and adjust model parameters."
   ]
  },
  {
   "cell_type": "markdown",
   "metadata": {},
   "source": [
    "# KNN"
   ]
  },
  {
   "cell_type": "markdown",
   "metadata": {},
   "source": [
    "Will construct another baseline model for comparison with ensemble models. Will use K = 3 and K = 5."
   ]
  },
  {
   "cell_type": "markdown",
   "metadata": {},
   "source": [
    "##### K = 3"
   ]
  },
  {
   "cell_type": "code",
   "execution_count": 89,
   "metadata": {},
   "outputs": [],
   "source": [
    "# import KNeighborsClassifier from sklearn.neighbors\n",
    "from sklearn.neighbors import KNeighborsClassifier\n",
    "# Call the model\n",
    "knn3 = KNeighborsClassifier(n_neighbors = 3)\n",
    "# Fit the model\n",
    "knn3 = knn3.fit(features_train, target_train)\n",
    "# Now predict using features test set\n",
    "knn3_predict = knn3.predict(features_test)"
   ]
  },
  {
   "cell_type": "markdown",
   "metadata": {},
   "source": [
    "##### K = 5"
   ]
  },
  {
   "cell_type": "code",
   "execution_count": 90,
   "metadata": {},
   "outputs": [],
   "source": [
    "# Call the model\n",
    "knn5 = KNeighborsClassifier(n_neighbors = 5)\n",
    "# Fit the model\n",
    "knn5 = knn5.fit(features_train, target_train)\n",
    "# Now predict using features test set\n",
    "knn5_predict = knn5.predict(features_test)"
   ]
  },
  {
   "cell_type": "markdown",
   "metadata": {},
   "source": [
    "### What are the accuracies?"
   ]
  },
  {
   "cell_type": "markdown",
   "metadata": {},
   "source": [
    "##### K = 3"
   ]
  },
  {
   "cell_type": "code",
   "execution_count": 91,
   "metadata": {},
   "outputs": [
    {
     "name": "stdout",
     "output_type": "stream",
     "text": [
      "KNN accuracy score:  0.8029942418426104\n",
      "             precision    recall  f1-score   support\n",
      "\n",
      "          0       0.86      0.88      0.87      9873\n",
      "          1       0.60      0.56      0.58      3152\n",
      "\n",
      "avg / total       0.80      0.80      0.80     13025\n",
      "\n",
      "[[8696 1177]\n",
      " [1389 1763]]\n"
     ]
    }
   ],
   "source": [
    "print(\"KNN accuracy score: \",accuracy_score(target_test,knn3_predict))\n",
    "print(classification_report(target_test, knn3_predict))\n",
    "print(confusion_matrix(target_test, knn3_predict))"
   ]
  },
  {
   "cell_type": "markdown",
   "metadata": {},
   "source": [
    "##### K = 5"
   ]
  },
  {
   "cell_type": "code",
   "execution_count": 92,
   "metadata": {},
   "outputs": [
    {
     "name": "stdout",
     "output_type": "stream",
     "text": [
      "KNN accuracy score:  0.8145873320537428\n",
      "             precision    recall  f1-score   support\n",
      "\n",
      "          0       0.87      0.89      0.88      9873\n",
      "          1       0.63      0.57      0.60      3152\n",
      "\n",
      "avg / total       0.81      0.81      0.81     13025\n",
      "\n",
      "[[8800 1073]\n",
      " [1342 1810]]\n"
     ]
    }
   ],
   "source": [
    "print(\"KNN accuracy score: \",accuracy_score(target_test,knn5_predict))\n",
    "print(classification_report(target_test, knn5_predict))\n",
    "print(confusion_matrix(target_test, knn5_predict))"
   ]
  },
  {
   "cell_type": "markdown",
   "metadata": {},
   "source": [
    "### Cross-Validation"
   ]
  },
  {
   "cell_type": "markdown",
   "metadata": {},
   "source": [
    "##### K = 3"
   ]
  },
  {
   "cell_type": "code",
   "execution_count": 93,
   "metadata": {},
   "outputs": [
    {
     "name": "stdout",
     "output_type": "stream",
     "text": [
      "CV Score for each K [0.80296827 0.80910952 0.80962129 0.79324463 0.79785056 0.8024565\n",
      " 0.79580348 0.79825909 0.80081925 0.81608607]\n",
      "CV mean score:  0.8026218654284627\n"
     ]
    }
   ],
   "source": [
    "KNN3_CV_scores = cross_val_score(knn3, features_train, target_train, cv=10)\n",
    "print('CV Score for each K', KNN3_CV_scores)\n",
    "print('CV mean score: ', KNN3_CV_scores.mean()) "
   ]
  },
  {
   "cell_type": "markdown",
   "metadata": {},
   "source": [
    "##### K = 5"
   ]
  },
  {
   "cell_type": "code",
   "execution_count": 95,
   "metadata": {},
   "outputs": [
    {
     "name": "stdout",
     "output_type": "stream",
     "text": [
      "CV Score for each K [0.80757421 0.81269191 0.81883316 0.80808598 0.80603889 0.81269191\n",
      " 0.80962129 0.80389145 0.81157194 0.81557377]\n",
      "CV mean score:  0.8106574519411792\n"
     ]
    }
   ],
   "source": [
    "KNN5_CV_scores = cross_val_score(knn5, features_train, target_train, cv=10)\n",
    "print('CV Score for each K', KNN5_CV_scores)\n",
    "print('CV mean score: ', KNN5_CV_scores.mean()) "
   ]
  },
  {
   "cell_type": "markdown",
   "metadata": {},
   "source": [
    "### KNN Summary"
   ]
  },
  {
   "cell_type": "markdown",
   "metadata": {},
   "source": [
    "The KNN algorithm with k = 5 performed better than k = 3. Overall, KNN performed slightly less well than the baseline decision tree. After cross-validating, the mean accuracy score for k = 5 was .81, compared to the decision tree's .812. The recall for k = 5 was .57 and recall for k = 3 was .56. These recall values render the KNN significantly less useful in making predicitons compared to the decision tree. We will now move on to our ensembles."
   ]
  },
  {
   "cell_type": "markdown",
   "metadata": {},
   "source": [
    "# Random Forest"
   ]
  },
  {
   "cell_type": "markdown",
   "metadata": {},
   "source": [
    "### Random Forest 1 "
   ]
  },
  {
   "cell_type": "code",
   "execution_count": 140,
   "metadata": {},
   "outputs": [
    {
     "name": "stdout",
     "output_type": "stream",
     "text": [
      "RandomForestClassifier(bootstrap=True, class_weight=None, criterion='gini',\n",
      "            max_depth=None, max_features='auto', max_leaf_nodes=None,\n",
      "            min_impurity_decrease=0.0, min_impurity_split=None,\n",
      "            min_samples_leaf=1, min_samples_split=2,\n",
      "            min_weight_fraction_leaf=0.0, n_estimators=10, n_jobs=1,\n",
      "            oob_score=False, random_state=None, verbose=0,\n",
      "            warm_start=False)\n",
      "0.8495163024005733\n",
      "             precision    recall  f1-score   support\n",
      "\n",
      "      <=50K       0.89      0.92      0.90     14939\n",
      "       >50K       0.71      0.62      0.66      4598\n",
      "\n",
      "avg / total       0.84      0.85      0.85     19537\n",
      "\n",
      "[[13750  1189]\n",
      " [ 1751  2847]]\n"
     ]
    }
   ],
   "source": [
    "# train random forest model\n",
    "from sklearn.ensemble import RandomForestClassifier\n",
    "\n",
    "rf = RandomForestClassifier()\n",
    "print(rf)\n",
    "\n",
    "RF_1 = RandomForestClassifier(n_estimators= 500, n_jobs=-1,oob_score=True)\n",
    "RF_1.fit(features_train, target_train)\n",
    "# test random forest model\n",
    "RF_1_predicted = RF_1.predict(features_test)\n",
    "print(accuracy_score(target_test, RF_1_predicted))\n",
    "target_names = [\"<=50K\", \">50K\"]\n",
    "print(classification_report(target_test, RF_1_predicted, target_names=target_names))\n",
    "print(confusion_matrix(target_test, RF_1_predicted))"
   ]
  },
  {
   "cell_type": "markdown",
   "metadata": {},
   "source": [
    "The random forest model performed better than the basic decision tree. It had nearly .03 higher overall accuracy, with .02 higher recall and .08 higher precision for the positive class. The negative class metrics were improved by similar amounts. Let's perform a cross-validation to see the model's consistency. "
   ]
  },
  {
   "cell_type": "markdown",
   "metadata": {},
   "source": [
    "### Cross-Validation"
   ]
  },
  {
   "cell_type": "code",
   "execution_count": 141,
   "metadata": {},
   "outputs": [
    {
     "name": "stdout",
     "output_type": "stream",
     "text": [
      "Cross Validation Score for each K [0.85056295 0.84476288 0.85022177 0.8338451  0.85226885 0.85465711\n",
      " 0.84368601 0.84812287 0.83617747 0.84465688]\n"
     ]
    },
    {
     "data": {
      "text/plain": [
       "0.845896189017642"
      ]
     },
     "execution_count": 141,
     "metadata": {},
     "output_type": "execute_result"
    }
   ],
   "source": [
    "RF_1_scores = cross_val_score(RF_1, features_train, target_train, cv=10, n_jobs=-1)\n",
    "print(\"Cross Validation Score for each K\",RF_1_scores)\n",
    "RF_1_scores.mean()"
   ]
  },
  {
   "cell_type": "markdown",
   "metadata": {},
   "source": [
    "Performing cross-validation shows that this model is very consistent, with a mean accuracy of .846 and a spread of only +/- .01."
   ]
  },
  {
   "cell_type": "markdown",
   "metadata": {},
   "source": [
    "#### Confusion matrix"
   ]
  },
  {
   "cell_type": "code",
   "execution_count": 142,
   "metadata": {},
   "outputs": [
    {
     "name": "stdout",
     "output_type": "stream",
     "text": [
      "[[13750  1189]\n",
      " [ 1751  2847]]\n"
     ]
    },
    {
     "data": {
      "image/png": "[encoded data removed]",
      "text/plain": [
       "<matplotlib.figure.Figure at 0x1a2658c8d0>"
      ]
     },
     "metadata": {},
     "output_type": "display_data"
    }
   ],
   "source": [
    "RF_1_cm = confusion_matrix(target_test, RF_1_predicted)\n",
    "plt.matshow(RF_1_cm)\n",
    "plt.title('Confusion matrix')\n",
    "plt.colorbar()\n",
    "plt.ylabel('True label')\n",
    "plt.xlabel('Predicted label')\n",
    "print(RF_1_cm)"
   ]
  },
  {
   "cell_type": "markdown",
   "metadata": {},
   "source": [
    "### Hyperparameter Tuning"
   ]
  },
  {
   "cell_type": "code",
   "execution_count": 143,
   "metadata": {},
   "outputs": [
    {
     "name": "stdout",
     "output_type": "stream",
     "text": [
      "Time to run 49.367766000000074 seconds\n",
      "{'mean_fit_time': array([20.72156572, 22.14280836, 23.72793555, 25.34362737, 29.02665567,\n",
      "       23.31775864]), 'std_fit_time': array([0.28012395, 0.01226433, 0.80760939, 0.66148805, 0.19307368,\n",
      "       6.05444874]), 'mean_score_time': array([1.22487871, 1.1639696 , 1.04847638, 1.00968591, 1.03949173,\n",
      "       0.76130875]), 'std_score_time': array([0.13845373, 0.21196118, 0.17316181, 0.13353504, 0.14425577,\n",
      "       0.09535259]), 'param_max_features': masked_array(data=[3, 4, 5, 7, 9, 14],\n",
      "             mask=[False, False, False, False, False, False],\n",
      "       fill_value='?',\n",
      "            dtype=object), 'params': [{'max_features': 3}, {'max_features': 4}, {'max_features': 5}, {'max_features': 7}, {'max_features': 9}, {'max_features': 14}], 'split0_test_score': array([0.83560242, 0.83744498, 0.83908281, 0.8414372 , 0.84389395,\n",
      "       0.84512233]), 'split1_test_score': array([0.83896396, 0.83916871, 0.84172809, 0.84336609, 0.84572072,\n",
      "       0.84479934]), 'split2_test_score': array([0.83660934, 0.83701884, 0.83875921, 0.84039722, 0.84183047,\n",
      "       0.84377559]), 'mean_test_score': array([0.83705852, 0.8378775 , 0.83985668, 0.84173349, 0.84381505,\n",
      "       0.84456577]), 'std_test_score': array([0.00140863, 0.00092943, 0.00132983, 0.00123   , 0.00158914,\n",
      "       0.00057408]), 'rank_test_score': array([6, 5, 4, 3, 2, 1], dtype=int32), 'split0_train_score': array([0.98141892, 0.98141892, 0.98141892, 0.98141892, 0.98141892,\n",
      "       0.98141892]), 'split1_train_score': array([0.98182935, 0.98182935, 0.98182935, 0.98182935, 0.98182935,\n",
      "       0.98182935]), 'split2_train_score': array([0.98111276, 0.98111276, 0.98111276, 0.98111276, 0.98111276,\n",
      "       0.98111276]), 'mean_train_score': array([0.98145368, 0.98145368, 0.98145368, 0.98145368, 0.98145368,\n",
      "       0.98145368]), 'std_train_score': array([0.00029358, 0.00029358, 0.00029358, 0.00029358, 0.00029358,\n",
      "       0.00029358])}\n"
     ]
    }
   ],
   "source": [
    "param_grid = {\"max_features\": [3, 4, 5, 7, 9, 14]}\n",
    "start_time = time.clock()\n",
    "\n",
    "# run grid search\n",
    "grid_search = GridSearchCV(RF_1, param_grid=param_grid,n_jobs=-1)\n",
    "\n",
    "grid_search.fit(features_train, target_train)\n",
    "\n",
    "print(\"Time to run\", time.clock() - start_time, \"seconds\")\n",
    "print(grid_search.cv_results_)"
   ]
  },
  {
   "cell_type": "markdown",
   "metadata": {},
   "source": [
    "The best mean test score was at max_features = 14 (.8445). This number is the total number of features used in the model, so considering only a subset of the features at each split will not be necessary. The RF's original accuray score was .849 and the CV mean score was .846. "
   ]
  },
  {
   "cell_type": "markdown",
   "metadata": {},
   "source": [
    "### What is the importance of each predictor?"
   ]
  },
  {
   "cell_type": "code",
   "execution_count": 144,
   "metadata": {},
   "outputs": [
    {
     "name": "stdout",
     "output_type": "stream",
     "text": [
      "Features sorted by their score:\n",
      "Higher the more important\n",
      "[(0.2293, 'age'), (0.1137, 'hours-per-week'), (0.1058, 'capital-gain'), (0.0644, 'education-num'), (0.0331, 'capital-loss'), (0.0116, 'workclass_ Private'), (0.0093, 'workclass_ Self-emp-not-inc'), (0.0067, 'workclass_ Local-gov'), (0.0065, 'workclass_ Self-emp-inc'), (0.0057, 'workclass_ Federal-gov'), (0.0053, 'workclass_ State-gov'), (0.0019, 'workclass_ ?'), (0.0, 'workclass_ Never-worked')]\n"
     ]
    }
   ],
   "source": [
    "print(\"Features sorted by their score:\")\n",
    "print(\"Higher the more important\")\n",
    "print(sorted(zip(map(lambda x: round(x, 4), RF_1.feature_importances_),Adult.columns[1:14]), \n",
    "             reverse=True))"
   ]
  },
  {
   "cell_type": "markdown",
   "metadata": {},
   "source": [
    "The importance of each feature in the Random Forest model seem intuitive. Age explains 22.93% of the variance, hours worked per week explains 11.37% of the variance, capital gain explains 10.58% of the variance, and education-num explains 6.44% of the variance. Age and hours per week are intuitive indicators of whether or not someone would make over 50K. Capital gain, which I assume is the amount of non-income investment growth someone has earned, is another intuitive indicator of higher income, as is education level."
   ]
  },
  {
   "cell_type": "markdown",
   "metadata": {},
   "source": [
    "### Random Forest 2 - using 'balanced' class weights"
   ]
  },
  {
   "cell_type": "markdown",
   "metadata": {},
   "source": [
    "Let's play around with tuning - Since the distribution of the target variable is skewed, let's see how adding class weights affects the model's accuracy."
   ]
  },
  {
   "cell_type": "code",
   "execution_count": 145,
   "metadata": {},
   "outputs": [
    {
     "name": "stdout",
     "output_type": "stream",
     "text": [
      "RandomForestClassifier(bootstrap=True, class_weight=None, criterion='gini',\n",
      "            max_depth=None, max_features='auto', max_leaf_nodes=None,\n",
      "            min_impurity_decrease=0.0, min_impurity_split=None,\n",
      "            min_samples_leaf=1, min_samples_split=2,\n",
      "            min_weight_fraction_leaf=0.0, n_estimators=10, n_jobs=1,\n",
      "            oob_score=False, random_state=None, verbose=0,\n",
      "            warm_start=False)\n",
      "0.8463428366688847\n",
      "             precision    recall  f1-score   support\n",
      "\n",
      "      <=50K       0.89      0.91      0.90     14939\n",
      "       >50K       0.68      0.65      0.66      4598\n",
      "\n",
      "avg / total       0.84      0.85      0.84     19537\n",
      "\n",
      "[[13565  1374]\n",
      " [ 1628  2970]]\n"
     ]
    }
   ],
   "source": [
    "rf = RandomForestClassifier()\n",
    "print(rf)\n",
    "# train random forest model\n",
    "from sklearn.ensemble import RandomForestClassifier\n",
    "RF_2 = RandomForestClassifier(n_estimators= 500,class_weight = 'balanced', n_jobs=-1,oob_score=True)\n",
    "RF_2.fit(features_train, target_train)\n",
    "# test random forest model\n",
    "RF_2_predicted = RF_2.predict(features_test)\n",
    "print(accuracy_score(target_test, RF_2_predicted))\n",
    "target_names = [\"<=50K\", \">50K\"]\n",
    "print(classification_report(target_test, RF_2_predicted, target_names=target_names))\n",
    "print(confusion_matrix(target_test, RF_2_predicted))"
   ]
  },
  {
   "cell_type": "markdown",
   "metadata": {},
   "source": [
    "Using the 'balanced' class weights did virtually nothing to improve the Random Forest. The accuracy, precision, and recall metrics are similar. Adding the balanced class weight parameter did not increase overall accuracy and increased the true positive rate by .03 at the expense of .03 in precision. The F1 score was unchanged. The negative class metrics were virtually unchanged."
   ]
  },
  {
   "cell_type": "markdown",
   "metadata": {},
   "source": [
    "#### Cross-Validation"
   ]
  },
  {
   "cell_type": "code",
   "execution_count": 146,
   "metadata": {},
   "outputs": [
    {
     "name": "stdout",
     "output_type": "stream",
     "text": [
      "Cross Validation Score for each K [0.84817468 0.83964517 0.85158649 0.83145684 0.8461276  0.84919823\n",
      " 0.83754266 0.8447099  0.82696246 0.84397405]\n"
     ]
    },
    {
     "data": {
      "text/plain": [
       "0.841937808363092"
      ]
     },
     "execution_count": 146,
     "metadata": {},
     "output_type": "execute_result"
    }
   ],
   "source": [
    "RF_2_scores = cross_val_score(RF_2, features_train, target_train, cv=10, n_jobs=-1)\n",
    "print(\"Cross Validation Score for each K\",RF_2_scores)\n",
    "RF_2_scores.mean()"
   ]
  },
  {
   "cell_type": "markdown",
   "metadata": {},
   "source": [
    "The mean CV score for the RF model with balance class weights was slightly lower than the original RF model. There is good consistency here, and it seems like it really wouldn't matter which model was used, though I would choose the first because of the slightly better metrics."
   ]
  },
  {
   "cell_type": "markdown",
   "metadata": {},
   "source": [
    "### Random Forest 3 - balanced class weights and min_impurity_decrease"
   ]
  },
  {
   "cell_type": "markdown",
   "metadata": {},
   "source": [
    "In addition to having the balanced class weight parameter in place, let's also play around with the min_impurity_decrease parameter. This parameter ensures that a split in each tree must reduce impurity among the instances in each node by a certain amount, or else the split will not occur. This is expected to result in a model that \"casts a wider net\". We may see higher recall for the positive class of the target variable, but perhaps at a cost in precision and overall accuracy."
   ]
  },
  {
   "cell_type": "code",
   "execution_count": 147,
   "metadata": {},
   "outputs": [
    {
     "name": "stdout",
     "output_type": "stream",
     "text": [
      "RandomForestClassifier(bootstrap=True, class_weight=None, criterion='gini',\n",
      "            max_depth=None, max_features='auto', max_leaf_nodes=None,\n",
      "            min_impurity_decrease=0.0, min_impurity_split=None,\n",
      "            min_samples_leaf=1, min_samples_split=2,\n",
      "            min_weight_fraction_leaf=0.0, n_estimators=10, n_jobs=1,\n",
      "            oob_score=False, random_state=None, verbose=0,\n",
      "            warm_start=False)\n",
      "0.731637405947689\n",
      "             precision    recall  f1-score   support\n",
      "\n",
      "      <=50K       0.94      0.70      0.80     14939\n",
      "       >50K       0.46      0.84      0.60      4598\n",
      "\n",
      "avg / total       0.82      0.73      0.75     19537\n",
      "\n",
      "[[10415  4524]\n",
      " [  719  3879]]\n"
     ]
    }
   ],
   "source": [
    "rf = RandomForestClassifier()\n",
    "print(rf)\n",
    "# train random forest model\n",
    "from sklearn.ensemble import RandomForestClassifier\n",
    "RF_3 = RandomForestClassifier(n_estimators= 500,class_weight = 'balanced', min_impurity_decrease = .01, n_jobs=-1,oob_score=True)\n",
    "RF_3.fit(features_train, target_train)\n",
    "# test random forest model\n",
    "RF_3_predicted = RF_3.predict(features_test)\n",
    "print(accuracy_score(target_test, RF_3_predicted))\n",
    "target_names = [\"<=50K\", \">50K\"]\n",
    "print(classification_report(target_test, RF_3_predicted, target_names=target_names))\n",
    "print(confusion_matrix(target_test, RF_3_predicted))"
   ]
  },
  {
   "cell_type": "markdown",
   "metadata": {},
   "source": [
    "As expected, by adding this parameter, the recall for the positive class increased significantly, and the precision and accuracy decreased, as well as the negative class recall. I did not expect that adding the min_impurity_decrease parameter of only .01 would have such a large effect. Let's try a grid search to see if there are any better values to put in the parameter."
   ]
  },
  {
   "cell_type": "markdown",
   "metadata": {},
   "source": [
    "#### min_impurity_decrease Grid Search"
   ]
  },
  {
   "cell_type": "code",
   "execution_count": 148,
   "metadata": {},
   "outputs": [
    {
     "name": "stdout",
     "output_type": "stream",
     "text": [
      "Time to run 18.978584999999953 seconds\n",
      "{'mean_fit_time': array([ 7.35563135,  9.98679336, 11.65175939, 12.37578034, 11.99845354]), 'std_fit_time': array([0.34869247, 1.00392318, 0.28900527, 0.45785682, 0.12711527]), 'mean_score_time': array([0.48684827, 0.49667128, 0.62221313, 0.62567329, 0.52313813]), 'std_score_time': array([0.09650956, 0.04111563, 0.08707915, 0.08961868, 0.14942486]), 'param_min_impurity_decrease': masked_array(data=[0.1, 0.05, 0.01, 0.005, 0.001],\n",
      "             mask=[False, False, False, False, False],\n",
      "       fill_value='?',\n",
      "            dtype=object), 'params': [{'min_impurity_decrease': 0.1}, {'min_impurity_decrease': 0.05}, {'min_impurity_decrease': 0.01}, {'min_impurity_decrease': 0.005}, {'min_impurity_decrease': 0.001}], 'split0_test_score': array([0.70887501, 0.71716655, 0.72934794, 0.7311905 , 0.77745931]), 'split1_test_score': array([0.70833333, 0.71457821, 0.72563473, 0.73628174, 0.77272727]), 'split2_test_score': array([0.71191646, 0.71918509, 0.73341523, 0.74232187, 0.77702703]), 'mean_test_score': array([0.70970824, 0.71697663, 0.72946596, 0.73659785, 0.77573793]), 'std_test_score': array([0.00157699, 0.00188551, 0.00317742, 0.00454989, 0.0021361 ]), 'rank_test_score': array([5, 4, 3, 2, 1], dtype=int32), 'split0_train_score': array([0.7101249 , 0.71698403, 0.72972973, 0.73361998, 0.7791769 ]), 'split1_train_score': array([0.71039566, 0.71730563, 0.73005067, 0.73854737, 0.77939295]), 'split2_train_score': array([0.70860419, 0.71607719, 0.72979475, 0.73885448, 0.77627067]), 'mean_train_score': array([0.70970825, 0.71678895, 0.72985838, 0.73700728, 0.77828017]), 'std_train_score': array([0.00078848, 0.00052013, 0.00013854, 0.00239846, 0.00142367])}\n"
     ]
    }
   ],
   "source": [
    "param_grid = {\"min_impurity_decrease\": [.1,.05,.01,.005,.001]}\n",
    "start_time = time.clock()\n",
    "\n",
    "# run grid search \n",
    "grid_search = GridSearchCV(RF_3, param_grid=param_grid,n_jobs=-1)\n",
    "\n",
    "grid_search.fit(features_train, target_train)\n",
    "\n",
    "print(\"Time to run\", time.clock() - start_time, \"seconds\")\n",
    "print(grid_search.cv_results_)"
   ]
  },
  {
   "cell_type": "markdown",
   "metadata": {},
   "source": [
    "The grid search indicates that the highest accurcacy will be with a min_impurity_decrease value of .001. This is a very small value, but lets see how it does."
   ]
  },
  {
   "cell_type": "markdown",
   "metadata": {},
   "source": [
    "### Random Forest 4"
   ]
  },
  {
   "cell_type": "code",
   "execution_count": 149,
   "metadata": {},
   "outputs": [
    {
     "name": "stdout",
     "output_type": "stream",
     "text": [
      "RandomForestClassifier(bootstrap=True, class_weight=None, criterion='gini',\n",
      "            max_depth=None, max_features='auto', max_leaf_nodes=None,\n",
      "            min_impurity_decrease=0.0, min_impurity_split=None,\n",
      "            min_samples_leaf=1, min_samples_split=2,\n",
      "            min_weight_fraction_leaf=0.0, n_estimators=10, n_jobs=1,\n",
      "            oob_score=False, random_state=None, verbose=0,\n",
      "            warm_start=False)\n",
      "0.7800583508215182\n",
      "             precision    recall  f1-score   support\n",
      "\n",
      "      <=50K       0.94      0.76      0.84     14939\n",
      "       >50K       0.52      0.85      0.65      4598\n",
      "\n",
      "avg / total       0.84      0.78      0.79     19537\n",
      "\n",
      "[[11316  3623]\n",
      " [  674  3924]]\n"
     ]
    }
   ],
   "source": [
    "rf = RandomForestClassifier()\n",
    "print(rf)\n",
    "# train random forest model\n",
    "from sklearn.ensemble import RandomForestClassifier\n",
    "RF_4 = RandomForestClassifier(n_estimators= 500,class_weight = 'balanced', min_impurity_decrease = .001, n_jobs=-1,oob_score=True)\n",
    "RF_4.fit(features_train, target_train)\n",
    "# test random forest model\n",
    "RF_4_predicted = RF_4.predict(features_test)\n",
    "print(accuracy_score(target_test, RF_4_predicted))\n",
    "target_names = [\"<=50K\", \">50K\"]\n",
    "print(classification_report(target_test, RF_4_predicted, target_names=target_names))\n",
    "print(confusion_matrix(target_test, RF_4_predicted))"
   ]
  },
  {
   "cell_type": "markdown",
   "metadata": {},
   "source": [
    "This model did better all-around than the previous one. The recall for both classes was higher, and the accuracy and precision metrics improved. However, the precision is still very low (.52). Because of this, I would prefer to stick with the original Random Forest for this particular dataset. "
   ]
  },
  {
   "cell_type": "markdown",
   "metadata": {},
   "source": [
    "#### Cross-Validation"
   ]
  },
  {
   "cell_type": "code",
   "execution_count": 155,
   "metadata": {},
   "outputs": [
    {
     "name": "stdout",
     "output_type": "stream",
     "text": [
      "Cross Validation Score for each K [0.77311498 0.78266803 0.76731491 0.76731491 0.77311498 0.76322074\n",
      " 0.77269625 0.78020478 0.76279863 0.77705702]\n"
     ]
    },
    {
     "data": {
      "text/plain": [
       "0.7719505224732444"
      ]
     },
     "execution_count": 155,
     "metadata": {},
     "output_type": "execute_result"
    }
   ],
   "source": [
    "RF_4_scores = cross_val_score(RF_4, features_train, target_train, cv=10, n_jobs=-1)\n",
    "print(\"Cross Validation Score for each K\",RF_4_scores)\n",
    "RF_4_scores.mean()"
   ]
  },
  {
   "cell_type": "markdown",
   "metadata": {},
   "source": [
    "The CV scores are consistent, though lower than Random Forests 1 and 2. \n",
    "\n",
    "Random Forest 1 will be chosen as the best RF model."
   ]
  },
  {
   "cell_type": "markdown",
   "metadata": {},
   "source": [
    "## Illustrate Random Forest 1's precision and recall with a ROC curve"
   ]
  },
  {
   "cell_type": "code",
   "execution_count": 150,
   "metadata": {},
   "outputs": [
    {
     "name": "stdout",
     "output_type": "stream",
     "text": [
      "ROC AUC: 0.892\n"
     ]
    },
    {
     "data": {
      "image/png": "[encoded data removed]",
      "text/plain": [
       "<matplotlib.figure.Figure at 0x1a1959bc88>"
      ]
     },
     "metadata": {},
     "output_type": "display_data"
    }
   ],
   "source": [
    "# Determine the false positive and true positive rates\n",
    "fpr, tpr, _ = roc_curve(target_test, RF_1.predict_proba(features_test)[:,1]) \n",
    "    \n",
    "# Calculate the AUC\n",
    "roc_auc = auc(fpr, tpr)\n",
    "print('ROC AUC: %0.3f' % roc_auc)\n",
    " \n",
    "# Plot of a ROC curve for a specific class\n",
    "plt.figure()\n",
    "plt.plot(fpr, tpr, label='ROC curve (area = %0.3f)' % roc_auc)\n",
    "plt.plot([0, 1], [0, 1], 'k--')\n",
    "plt.xlim([0.0, 1.0])\n",
    "plt.ylim([0.0, 1.05])\n",
    "plt.xlabel('False Positive Rate')\n",
    "plt.ylabel('True Positive Rate')\n",
    "plt.title('ROC Curve')\n",
    "plt.legend(loc=\"lower right\")\n",
    "plt.show()"
   ]
  },
  {
   "cell_type": "markdown",
   "metadata": {},
   "source": [
    "The ROC curve shows that Random Forest 1 is a very solid model. The steepness of the curve shows that the model can identify over 80% of the positives without sacrificing too much precision and overall accuracy. "
   ]
  },
  {
   "cell_type": "markdown",
   "metadata": {},
   "source": [
    "# Extra Trees"
   ]
  },
  {
   "cell_type": "markdown",
   "metadata": {},
   "source": [
    "### Extra Trees Model 1 (No tuning)"
   ]
  },
  {
   "cell_type": "code",
   "execution_count": 158,
   "metadata": {},
   "outputs": [
    {
     "name": "stdout",
     "output_type": "stream",
     "text": [
      "Extra Trees 0.8250499053078774\n",
      "             precision    recall  f1-score   support\n",
      "\n",
      "         No       0.87      0.91      0.89     14939\n",
      "        Yes       0.65      0.54      0.59      4598\n",
      "\n",
      "avg / total       0.82      0.83      0.82     19537\n",
      "\n",
      "[[13616  1323]\n",
      " [ 2095  2503]]\n"
     ]
    }
   ],
   "source": [
    "from sklearn.ensemble import ExtraTreesClassifier\n",
    "XTree_1 = ExtraTreesClassifier()\n",
    "XTree_1.fit(features_train, target_train)\n",
    "XTree_1_predicted=XTree_1.predict(features_test)\n",
    "expected = target_test\n",
    "print(\"Extra Trees\", accuracy_score(expected,XTree_1_predicted))\n",
    "print(classification_report(expected, XTree_1_predicted,target_names=['No', 'Yes']))\n",
    "print(confusion_matrix(expected, XTree_1_predicted))"
   ]
  },
  {
   "cell_type": "markdown",
   "metadata": {},
   "source": [
    "The extra trees model, with no tuning, did not preform as well as the Random Forest model. While its overall accuracy was good, the positive class metrics were a bit lower than the RF. The recall was .54 with .65 precision, resulting in an F1 score of .59. "
   ]
  },
  {
   "cell_type": "markdown",
   "metadata": {},
   "source": [
    "#### Cross-validate"
   ]
  },
  {
   "cell_type": "code",
   "execution_count": 160,
   "metadata": {},
   "outputs": [
    {
     "name": "stdout",
     "output_type": "stream",
     "text": [
      "CV Score for each K [0.82668031 0.82088025 0.82702149 0.81610372 0.82770386 0.82497441\n",
      " 0.82150171 0.82491468 0.82013652 0.8350973 ]\n",
      "CV mean score:  0.8245014243434557\n"
     ]
    }
   ],
   "source": [
    "# Will use K = 10\n",
    "XTree_1_CV_scores = cross_val_score(XTree_1, features_train, target_train, cv=10,scoring='accuracy')\n",
    "print('CV Score for each K', XTree_1_CV_scores)\n",
    "print('CV mean score: ', XTree_1_CV_scores.mean())  "
   ]
  },
  {
   "cell_type": "markdown",
   "metadata": {},
   "source": [
    "The 10 CV scores are all within +/- .01 of the mean. This is good consistency. Let's add some parameters to see if the model's metrics can be improved. First, the model needs to be printed to display the argument options."
   ]
  },
  {
   "cell_type": "code",
   "execution_count": 159,
   "metadata": {},
   "outputs": [
    {
     "name": "stdout",
     "output_type": "stream",
     "text": [
      "ExtraTreesClassifier(bootstrap=False, class_weight=None, criterion='gini',\n",
      "           max_depth=None, max_features='auto', max_leaf_nodes=None,\n",
      "           min_impurity_decrease=0.0, min_impurity_split=None,\n",
      "           min_samples_leaf=1, min_samples_split=2,\n",
      "           min_weight_fraction_leaf=0.0, n_estimators=10, n_jobs=1,\n",
      "           oob_score=False, random_state=None, verbose=0, warm_start=False)\n"
     ]
    }
   ],
   "source": [
    "print(XTree_1)"
   ]
  },
  {
   "cell_type": "markdown",
   "metadata": {},
   "source": [
    "### Extra Trees 2"
   ]
  },
  {
   "cell_type": "markdown",
   "metadata": {},
   "source": [
    "Going to add 'balanced' class weights"
   ]
  },
  {
   "cell_type": "code",
   "execution_count": 161,
   "metadata": {},
   "outputs": [
    {
     "name": "stdout",
     "output_type": "stream",
     "text": [
      "Extra Trees 0.819829042329938\n",
      "             precision    recall  f1-score   support\n",
      "\n",
      "         No       0.88      0.89      0.88     14939\n",
      "        Yes       0.62      0.60      0.61      4598\n",
      "\n",
      "avg / total       0.82      0.82      0.82     19537\n",
      "\n",
      "[[13279  1660]\n",
      " [ 1860  2738]]\n"
     ]
    }
   ],
   "source": [
    "XTree_2 = ExtraTreesClassifier(class_weight='balanced')\n",
    "XTree_2.fit(features_train, target_train)\n",
    "XTree_2_predicted=XTree_2.predict(features_test)\n",
    "expected = target_test\n",
    "print(\"Extra Trees\", accuracy_score(expected,XTree_2_predicted))\n",
    "print(classification_report(expected, XTree_2_predicted,target_names=['No', 'Yes']))\n",
    "print(confusion_matrix(expected, XTree_2_predicted))"
   ]
  },
  {
   "cell_type": "markdown",
   "metadata": {},
   "source": [
    "Positive class recall increased by .06, while positive class precision decreased by .03. The average F1 score was unchanged. The overall accuracy for this model was .006 lower than the first. Since this difference is so small, it shouldn't matter which model is used. I usually lean toward the model that has higher recall- this one does for the positive class, although the negative class recall was .02 lower. Let's see what the cross-validation scores tell us about the model's accuracy and consistency."
   ]
  },
  {
   "cell_type": "code",
   "execution_count": 162,
   "metadata": {},
   "outputs": [
    {
     "name": "stdout",
     "output_type": "stream",
     "text": [
      "CV Score for each K [0.8164449  0.81235073 0.8198567  0.80723303 0.81951552 0.81678608\n",
      " 0.80784983 0.81774744 0.80375427 0.8197337 ]\n",
      "CV mean score:  0.8141272200249354\n"
     ]
    }
   ],
   "source": [
    "# Will use K = 10\n",
    "XTree_2_CV_scores = cross_val_score(XTree_2, features_train, target_train, cv=10,scoring='accuracy')\n",
    "print('CV Score for each K', XTree_2_CV_scores)\n",
    "print('CV mean score: ', XTree_2_CV_scores.mean())  "
   ]
  },
  {
   "cell_type": "markdown",
   "metadata": {},
   "source": [
    "The CV scores are all within .01 of the mean, however none reach .82 accuracy. The first model's mean CV score was .824, a full percentage point higher than the second model."
   ]
  },
  {
   "cell_type": "markdown",
   "metadata": {},
   "source": [
    "### Extra Trees 3"
   ]
  },
  {
   "cell_type": "markdown",
   "metadata": {},
   "source": [
    "Going to add max depth and min-impurity split parameters. This could have a large effect on recall and precision."
   ]
  },
  {
   "cell_type": "code",
   "execution_count": 170,
   "metadata": {},
   "outputs": [
    {
     "name": "stdout",
     "output_type": "stream",
     "text": [
      "Extra Trees 0.8158878026309054\n",
      "             precision    recall  f1-score   support\n",
      "\n",
      "         No       0.83      0.96      0.89     14939\n",
      "        Yes       0.72      0.36      0.48      4598\n",
      "\n",
      "avg / total       0.80      0.82      0.79     19537\n",
      "\n",
      "[[14297   642]\n",
      " [ 2955  1643]]\n"
     ]
    }
   ],
   "source": [
    "XTree_3 = ExtraTreesClassifier(max_depth=5,min_impurity_decrease=.001)\n",
    "XTree_3.fit(features_train, target_train)\n",
    "XTree_3_predicted=XTree_3.predict(features_test)\n",
    "expected = target_test\n",
    "print(\"Extra Trees\", accuracy_score(expected,XTree_3_predicted))\n",
    "print(classification_report(expected, XTree_3_predicted,target_names=['No', 'Yes']))\n",
    "print(confusion_matrix(expected, XTree_3_predicted))"
   ]
  },
  {
   "cell_type": "markdown",
   "metadata": {},
   "source": [
    "The recall for the positive class went down dramatically to .36 with a relatively higher precision of 72. The negative class has a recall of .96 with precision of .81. Let's do a grid search to find the best depth of the tree and the pest min_impurity_decrease value."
   ]
  },
  {
   "cell_type": "markdown",
   "metadata": {},
   "source": [
    "#### min_impurity_decrese Grid Search"
   ]
  },
  {
   "cell_type": "code",
   "execution_count": 171,
   "metadata": {},
   "outputs": [
    {
     "name": "stdout",
     "output_type": "stream",
     "text": [
      "Time to run 0.9591410000000451 seconds\n",
      "{'mean_fit_time': array([0.16955725, 0.26699464, 0.3138895 , 0.29032834]), 'std_fit_time': array([0.03200745, 0.02035345, 0.00493228, 0.03442157]), 'mean_score_time': array([0.01514546, 0.01853657, 0.02193554, 0.01237559]), 'std_score_time': array([0.0043655 , 0.00221969, 0.00429036, 0.00290583]), 'param_min_impurity_decrease': masked_array(data=[0.05, 0.01, 0.005, 0.001],\n",
      "             mask=[False, False, False, False],\n",
      "       fill_value='?',\n",
      "            dtype=object), 'params': [{'min_impurity_decrease': 0.05}, {'min_impurity_decrease': 0.01}, {'min_impurity_decrease': 0.005}, {'min_impurity_decrease': 0.001}], 'split0_test_score': array([0.7581124 , 0.7581124 , 0.77326236, 0.81533422]), 'split1_test_score': array([0.75808763, 0.75808763, 0.78214578, 0.81470106]), 'split2_test_score': array([0.75808763, 0.75808763, 0.79381654, 0.80702293]), 'mean_test_score': array([0.75809589, 0.75809589, 0.78307456, 0.81235284]), 'std_test_score': array([1.16737157e-05, 1.16737157e-05, 8.41694139e-03, 3.77757228e-03]), 'rank_test_score': array([3, 3, 2, 1], dtype=int32), 'split0_train_score': array([0.75808763, 0.75808763, 0.7742629 , 0.81275594]), 'split1_train_score': array([0.75810002, 0.75810002, 0.77765266, 0.81312382]), 'split2_train_score': array([0.75810002, 0.75810002, 0.79633516, 0.81291908]), 'mean_train_score': array([0.75809589, 0.75809589, 0.78275024, 0.81293294]), 'std_train_score': array([5.83705704e-06, 5.83705704e-06, 9.70515854e-03, 1.50505557e-04])}\n"
     ]
    }
   ],
   "source": [
    "param_grid = {\"min_impurity_decrease\": [.05,.01,.005,.001]}\n",
    "start_time = time.clock()\n",
    "\n",
    "# run grid search \n",
    "grid_search = GridSearchCV(XTree_3, param_grid=param_grid,n_jobs=-1)\n",
    "\n",
    "grid_search.fit(features_train, target_train)\n",
    "\n",
    "print(\"Time to run\", time.clock() - start_time, \"seconds\")\n",
    "print(grid_search.cv_results_)"
   ]
  },
  {
   "cell_type": "markdown",
   "metadata": {},
   "source": [
    "The best min_impurity_decease value was .001, which is what we had entered. Let's do the same for max_depth."
   ]
  },
  {
   "cell_type": "markdown",
   "metadata": {},
   "source": [
    "#### max_depth Grid Search"
   ]
  },
  {
   "cell_type": "code",
   "execution_count": 172,
   "metadata": {},
   "outputs": [
    {
     "name": "stdout",
     "output_type": "stream",
     "text": [
      "Time to run 1.1127500000000055 seconds\n",
      "{'mean_fit_time': array([0.26590236, 0.36660385, 0.40497724, 0.41052731, 0.2651639 ]), 'std_fit_time': array([0.05228144, 0.01318346, 0.01869197, 0.01926981, 0.07293738]), 'mean_score_time': array([0.02169466, 0.02517001, 0.02353207, 0.02081736, 0.01231265]), 'std_score_time': array([0.00315709, 0.00564354, 0.00362491, 0.00294365, 0.00314444]), 'param_max_depth': masked_array(data=[3, 4, 5, 6, 7],\n",
      "             mask=[False, False, False, False, False],\n",
      "       fill_value='?',\n",
      "            dtype=object), 'params': [{'max_depth': 3}, {'max_depth': 4}, {'max_depth': 5}, {'max_depth': 6}, {'max_depth': 7}], 'split0_test_score': array([0.77684512, 0.77356945, 0.81533422, 0.81257038, 0.80601904]), 'split1_test_score': array([0.7787674 , 0.80364455, 0.81470106, 0.82248157, 0.8244267 ]), 'split2_test_score': array([0.77579853, 0.79412367, 0.80036855, 0.81265356, 0.81674857]), 'mean_test_score': array([0.77713701, 0.79044532, 0.81013479, 0.81590172, 0.8157311 ]), 'std_test_score': array([0.00122947, 0.01255067, 0.00691043, 0.00465266, 0.00754932]), 'rank_test_score': array([5, 4, 3, 1, 2], dtype=int32), 'split0_train_score': array([0.77769247, 0.77482596, 0.81275594, 0.81444513, 0.80471949]), 'split1_train_score': array([0.77473512, 0.80186313, 0.81312382, 0.82136459, 0.8223371 ]), 'split2_train_score': array([0.77627067, 0.79700056, 0.80217024, 0.81471055, 0.81921482]), 'mean_train_score': array([0.77623275, 0.79122989, 0.80935   , 0.81684009, 0.81542381]), 'std_train_score': array([0.00120763, 0.01176797, 0.00507908, 0.00320114, 0.00767567])}\n"
     ]
    }
   ],
   "source": [
    "param_grid = {\"max_depth\": [3,4,5,6,7]}\n",
    "start_time = time.clock()\n",
    "\n",
    "# run grid search \n",
    "grid_search = GridSearchCV(XTree_3, param_grid=param_grid,n_jobs=-1)\n",
    "\n",
    "grid_search.fit(features_train, target_train)\n",
    "\n",
    "print(\"Time to run\", time.clock() - start_time, \"seconds\")\n",
    "print(grid_search.cv_results_)"
   ]
  },
  {
   "cell_type": "markdown",
   "metadata": {},
   "source": [
    "According to the grid search, the best max_depth value is 6. Let's make the adjustment and see what happens."
   ]
  },
  {
   "cell_type": "markdown",
   "metadata": {},
   "source": [
    "### Extra Trees 4"
   ]
  },
  {
   "cell_type": "code",
   "execution_count": 173,
   "metadata": {},
   "outputs": [
    {
     "name": "stdout",
     "output_type": "stream",
     "text": [
      "Extra Trees 0.8148641040077801\n",
      "             precision    recall  f1-score   support\n",
      "\n",
      "         No       0.82      0.98      0.89     14939\n",
      "        Yes       0.81      0.28      0.41      4598\n",
      "\n",
      "avg / total       0.81      0.81      0.78     19537\n",
      "\n",
      "[[14644   295]\n",
      " [ 3322  1276]]\n"
     ]
    }
   ],
   "source": [
    "XTree_4 = ExtraTreesClassifier(max_depth=6,min_impurity_decrease=.001)\n",
    "XTree_4.fit(features_train, target_train)\n",
    "XTree_4_predicted=XTree_4.predict(features_test)\n",
    "expected = target_test\n",
    "print(\"Extra Trees\", accuracy_score(expected,XTree_4_predicted))\n",
    "print(classification_report(expected, XTree_4_predicted,target_names=['No', 'Yes']))\n",
    "print(confusion_matrix(expected, XTree_4_predicted))"
   ]
  },
  {
   "cell_type": "markdown",
   "metadata": {},
   "source": [
    "These parameters did not improve the model. Let's adjust it and remove the min_impurity_decrease."
   ]
  },
  {
   "cell_type": "code",
   "execution_count": 174,
   "metadata": {},
   "outputs": [
    {
     "name": "stdout",
     "output_type": "stream",
     "text": [
      "Extra Trees 0.8236679121666581\n",
      "             precision    recall  f1-score   support\n",
      "\n",
      "         No       0.84      0.96      0.89     14939\n",
      "        Yes       0.74      0.39      0.51      4598\n",
      "\n",
      "avg / total       0.81      0.82      0.80     19537\n",
      "\n",
      "[[14293   646]\n",
      " [ 2799  1799]]\n"
     ]
    }
   ],
   "source": [
    "XTree_4 = ExtraTreesClassifier(max_depth=6)\n",
    "XTree_4.fit(features_train, target_train)\n",
    "XTree_4_predicted=XTree_4.predict(features_test)\n",
    "expected = target_test\n",
    "print(\"Extra Trees\", accuracy_score(expected,XTree_4_predicted))\n",
    "print(classification_report(expected, XTree_4_predicted,target_names=['No', 'Yes']))\n",
    "print(confusion_matrix(expected, XTree_4_predicted))"
   ]
  },
  {
   "cell_type": "markdown",
   "metadata": {},
   "source": [
    "Removing the min_impurity_decrease improved the model significantly, but it is still performing much worse than the Extra Trees 1 and 2 models. We should still cross validate this one to see if it is consisitent."
   ]
  },
  {
   "cell_type": "markdown",
   "metadata": {},
   "source": [
    "#### Cross-Validate"
   ]
  },
  {
   "cell_type": "code",
   "execution_count": 175,
   "metadata": {},
   "outputs": [
    {
     "name": "stdout",
     "output_type": "stream",
     "text": [
      "CV Score for each K [0.82360969 0.814739   0.82326851 0.82770386 0.81235073 0.81064483\n",
      " 0.81535836 0.81331058 0.8116041  0.81700239]\n",
      "CV mean score:  0.8169592042926418\n"
     ]
    }
   ],
   "source": [
    "# Will use K = 10\n",
    "XTree_4_CV_scores = cross_val_score(XTree_4, features_train, target_train, cv=10,scoring='accuracy')\n",
    "print('CV Score for each K', XTree_4_CV_scores)\n",
    "print('CV mean score: ', XTree_4_CV_scores.mean())  "
   ]
  },
  {
   "cell_type": "markdown",
   "metadata": {},
   "source": [
    "The model is consistent, and the overall accuracy is not bad. However, this is due to high metrics for the negative class. The positive class recall is unacceptably low."
   ]
  },
  {
   "cell_type": "markdown",
   "metadata": {},
   "source": [
    "# SVM Linear"
   ]
  },
  {
   "cell_type": "markdown",
   "metadata": {},
   "source": [
    "### Baseline SVM Linear"
   ]
  },
  {
   "cell_type": "code",
   "execution_count": 176,
   "metadata": {},
   "outputs": [
    {
     "name": "stdout",
     "output_type": "stream",
     "text": [
      "             precision    recall  f1-score   support\n",
      "\n",
      "         No       0.82      0.99      0.89     14939\n",
      "        Yes       0.89      0.27      0.41      4598\n",
      "\n",
      "avg / total       0.83      0.82      0.78     19537\n",
      "\n",
      "[[14793   146]\n",
      " [ 3356  1242]]\n",
      "0.8207503710907509\n"
     ]
    }
   ],
   "source": [
    "# Without any parameters\n",
    "\n",
    "from sklearn.svm import LinearSVC\n",
    "SVM_1 = LinearSVC()\n",
    "SVM_1.fit(features_train, target_train)\n",
    "SVM_1_predicted = SVM_1.predict(features_test)\n",
    "expected = target_test\n",
    "# summarize the fit of the modeld\n",
    "print(classification_report(expected, SVM_1_predicted,target_names=['No', 'Yes']))\n",
    "print(confusion_matrix(expected, SVM_1_predicted))\n",
    "print(accuracy_score(expected,SVM_1_predicted))"
   ]
  },
  {
   "cell_type": "markdown",
   "metadata": {},
   "source": [
    "This baseline SVM model had an overall accuracy of .841. The negative class metrics were all very high: .82 precision, .99 recall, resulting in a .89 F1 score. The positive class had good precision (.89), but the recall was only .27, resulting in a F1 score of .41. "
   ]
  },
  {
   "cell_type": "markdown",
   "metadata": {},
   "source": [
    "#### Cross-Validation"
   ]
  },
  {
   "cell_type": "code",
   "execution_count": 177,
   "metadata": {},
   "outputs": [
    {
     "name": "stdout",
     "output_type": "stream",
     "text": [
      "CV Score for each K [0.82122143 0.70999659 0.52644149 0.54247697 0.85124531 0.64346639\n",
      " 0.80682594 0.83651877 0.8447099  0.82109935]\n",
      "CV mean score:  0.7404002133507381\n"
     ]
    }
   ],
   "source": [
    "# Will use K = 10\n",
    "SVM_1_CV_scores = cross_val_score(SVM_1, features_train, target_train, cv=10,scoring='accuracy')\n",
    "print('CV Score for each K', SVM_1_CV_scores)\n",
    "print('CV mean score: ', SVM_1_CV_scores.mean())  "
   ]
  },
  {
   "cell_type": "markdown",
   "metadata": {},
   "source": [
    "The mean CV score was .74. The scores have a larger spread than is desirebale, with most ranging between .80 and .85, with some low scores (.524 ; .526 ; .643). This, paired with the lower positive class metrics makes the Random Forest a more desireable model thus far, but we will see if adjusting parameters will improve this. \n",
    "\n",
    "Let's print out the model to see what parameters can be tuned."
   ]
  },
  {
   "cell_type": "code",
   "execution_count": 178,
   "metadata": {},
   "outputs": [
    {
     "name": "stdout",
     "output_type": "stream",
     "text": [
      "LinearSVC(C=1.0, class_weight=None, dual=True, fit_intercept=True,\n",
      "     intercept_scaling=1, loss='squared_hinge', max_iter=1000,\n",
      "     multi_class='ovr', penalty='l2', random_state=None, tol=0.0001,\n",
      "     verbose=0)\n"
     ]
    }
   ],
   "source": [
    "print(SVM_1)"
   ]
  },
  {
   "cell_type": "markdown",
   "metadata": {},
   "source": [
    "### SVM Linear 2"
   ]
  },
  {
   "cell_type": "markdown",
   "metadata": {},
   "source": [
    "In this model, we are going to add class weights to balance the target variable's distribution. "
   ]
  },
  {
   "cell_type": "code",
   "execution_count": 179,
   "metadata": {},
   "outputs": [
    {
     "name": "stdout",
     "output_type": "stream",
     "text": [
      "             precision    recall  f1-score   support\n",
      "\n",
      "         No       0.82      0.99      0.90     14939\n",
      "        Yes       0.90      0.28      0.42      4598\n",
      "\n",
      "avg / total       0.84      0.82      0.78     19537\n",
      "\n",
      "[[14799   140]\n",
      " [ 3321  1277]]\n",
      "0.8228489532681579\n"
     ]
    }
   ],
   "source": [
    "from sklearn.svm import LinearSVC\n",
    "SVM_2 = LinearSVC(class_weight='balanced')\n",
    "SVM_2.fit(features_train, target_train)\n",
    "SVM_2_predicted = SVM_2.predict(features_test)\n",
    "expected = target_test\n",
    "# summarize the fit of the model\n",
    "print(classification_report(expected, SVM_2_predicted,target_names=['No', 'Yes']))\n",
    "print(confusion_matrix(expected, SVM_2_predicted))\n",
    "print(accuracy_score(expected,SVM_2_predicted))"
   ]
  },
  {
   "cell_type": "markdown",
   "metadata": {},
   "source": [
    "Adding 'balanced' class weights improved this model in some ways, and hurt it in others. The negative class precision was unchanged at .82, as well as reacall at .99, resulting in an F1 score of .90. The positive class precision increased to .90, and recall increased to .28, both increaseing by .01. The new F1 score for the positive class was .42. The overall accuracy of this model increased by about .02, while the F1 score was unchanged at .78."
   ]
  },
  {
   "cell_type": "markdown",
   "metadata": {},
   "source": [
    "### SVC Linear 3"
   ]
  },
  {
   "cell_type": "code",
   "execution_count": 267,
   "metadata": {},
   "outputs": [
    {
     "name": "stdout",
     "output_type": "stream",
     "text": [
      "             precision    recall  f1-score   support\n",
      "\n",
      "         No       0.88      0.93      0.90     14939\n",
      "        Yes       0.71      0.58      0.63      4598\n",
      "\n",
      "avg / total       0.84      0.84      0.84     19537\n",
      "\n",
      "[[13831  1108]\n",
      " [ 1950  2648]]\n",
      "0.8434764805241337\n"
     ]
    }
   ],
   "source": [
    "from sklearn.svm import LinearSVC\n",
    "SVM_3 = LinearSVC(class_weight='balanced', C = 5)\n",
    "SVM_3.fit(features_train, target_train)\n",
    "SVM_3_predicted = SVM_3.predict(features_test)\n",
    "expected = target_test\n",
    "# summarize the fit of the model\n",
    "print(classification_report(expected, SVM_3_predicted,target_names=['No', 'Yes']))\n",
    "print(confusion_matrix(expected, SVM_3_predicted))\n",
    "print(accuracy_score(expected,SVM_3_predicted))"
   ]
  },
  {
   "cell_type": "markdown",
   "metadata": {},
   "source": [
    "Increasing the C value significantly increased the accuracy and F1 scores of the model. The positive class recall increased by .3, while precision decreased by .19. The negative class recall decreased by .06 but its precsion increased by .06. While this is a signficant improvement, the metrics do not match that of the Random Forest, and we are going to move on and explore other ensembles. "
   ]
  },
  {
   "cell_type": "markdown",
   "metadata": {},
   "source": [
    "# SVM RBF"
   ]
  },
  {
   "cell_type": "markdown",
   "metadata": {},
   "source": [
    "### SVM RBF 1"
   ]
  },
  {
   "cell_type": "code",
   "execution_count": 184,
   "metadata": {},
   "outputs": [
    {
     "name": "stdout",
     "output_type": "stream",
     "text": [
      "             precision    recall  f1-score   support\n",
      "\n",
      "         No       0.93      0.80      0.86     14939\n",
      "        Yes       0.55      0.81      0.66      4598\n",
      "\n",
      "avg / total       0.84      0.80      0.81     19537\n",
      "\n",
      "[[11932  3007]\n",
      " [  874  3724]]\n",
      "0.8013512821825255\n",
      "Time to run 268.224967 seconds\n"
     ]
    }
   ],
   "source": [
    "start_time = time.clock()\n",
    "from sklearn.svm import SVC\n",
    "#standard linear SVC\n",
    "RBF_1 = SVC(kernel='rbf', C=1.0, degree=3, class_weight='balanced',gamma=0.1)\n",
    "RBF_1.fit(features_train, target_train)\n",
    "RBF_1_predicted = RBF_1.predict(features_test)\n",
    "expected = target_test\n",
    "# summarize the fit of the model\n",
    "print(classification_report(expected, RBF_1_predicted,target_names=['No', 'Yes']))\n",
    "print(confusion_matrix(expected, RBF_1_predicted))\n",
    "print(accuracy_score(expected,RBF_1_predicted))\n",
    "print(\"Time to run\", time.clock() - start_time, \"seconds\")"
   ]
  },
  {
   "cell_type": "markdown",
   "metadata": {},
   "source": [
    "The SVM RBF model was significantly better than the SVM Linear models. Recall for the negative class was much lower at .80, though with high precision at .93. The positive class recall was .81, though with low precision at .55. The F1 scores for the negative class was .86 and for the positive class was .66, for an average F1 score of .81. The overall accuracy of the model was .801, which was 1-2 points lower than the linear SVM model. I believe this model is favorable to the linear SVM because of the higher recall in the positive class, which was terrible in the other models. Even though this model had much lower precision for the positive class, it at least identified a large majority of positive instances. Additionally, the lower precision in the positive class did not take an unacceptably large toll on the recall of the negative class."
   ]
  },
  {
   "cell_type": "markdown",
   "metadata": {},
   "source": [
    "#### Grid search for best Gamma"
   ]
  },
  {
   "cell_type": "code",
   "execution_count": 257,
   "metadata": {},
   "outputs": [
    {
     "name": "stdout",
     "output_type": "stream",
     "text": [
      "Time to run 541.4620590000004 seconds\n",
      "{'mean_fit_time': array([153.56556988, 228.82997823, 296.09288351, 316.77669128]), 'std_fit_time': array([10.73694859,  7.42805778, 15.44764353, 22.84176138]), 'mean_score_time': array([22.12349097, 26.30560549, 32.14178538, 26.80621004]), 'std_score_time': array([0.99495067, 1.71493977, 0.31821409, 6.52980217]), 'param_gamma': masked_array(data=[0.05, 0.1, 0.25, 0.5],\n",
      "             mask=[False, False, False, False],\n",
      "       fill_value='?',\n",
      "            dtype=object), 'params': [{'gamma': 0.05}, {'gamma': 0.1}, {'gamma': 0.25}, {'gamma': 0.5}], 'split0_test_score': array([0.79434947, 0.79608967, 0.80049135, 0.78165626]), 'split1_test_score': array([0.78183866, 0.78787879, 0.79320229, 0.78009828]), 'split2_test_score': array([0.79842342, 0.7989353 , 0.79596642, 0.78081491]), 'mean_test_score': array([0.79153728, 0.79430131, 0.79655349, 0.78085651]), 'std_test_score': array([0.00705659, 0.00468754, 0.00300458, 0.00063673]), 'rank_test_score': array([3, 2, 1, 4], dtype=int32), 'split0_train_score': array([0.83190008, 0.86384111, 0.92408886, 0.95782146]), 'split1_train_score': array([0.8349286 , 0.86635614, 0.92762451, 0.95925679]), 'split2_train_score': array([0.83385371, 0.86789169, 0.9246046 , 0.96063879]), 'mean_train_score': array([0.8335608 , 0.86602965, 0.92543932, 0.95923901]), 'std_train_score': array([0.00125361, 0.00166968, 0.00155944, 0.00115024])}\n"
     ]
    }
   ],
   "source": [
    "param_grid = {\"gamma\": [.05,.1,.25,.5]}\n",
    "start_time = time.clock()\n",
    "\n",
    "# run grid search \n",
    "grid_search = GridSearchCV(RBF_1, param_grid=param_grid,n_jobs=-1)\n",
    "\n",
    "grid_search.fit(features_train, target_train)\n",
    "\n",
    "print(\"Time to run\", time.clock() - start_time, \"seconds\")\n",
    "print(grid_search.cv_results_)"
   ]
  },
  {
   "cell_type": "markdown",
   "metadata": {},
   "source": [
    "The grid search revealed that a higher gamma value results in higher accuracy. Now we need to find the best C value."
   ]
  },
  {
   "cell_type": "code",
   "execution_count": 259,
   "metadata": {},
   "outputs": [
    {
     "name": "stdout",
     "output_type": "stream",
     "text": [
      "Time to run 424.4826549999998 seconds\n",
      "{'mean_fit_time': array([164.83631849, 186.57254744, 242.31686211, 255.23439995]), 'std_fit_time': array([ 1.75685437, 11.32383299,  5.26523816,  8.97075349]), 'mean_score_time': array([27.0745786 , 22.25060582, 21.2483259 , 14.97384731]), 'std_score_time': array([0.62861232, 0.32866355, 0.52856005, 3.37524285]), 'param_C': masked_array(data=[0.5, 1, 5, 10],\n",
      "             mask=[False, False, False, False],\n",
      "       fill_value='?',\n",
      "            dtype=object), 'params': [{'C': 0.5}, {'C': 1}, {'C': 5}, {'C': 10}], 'split0_test_score': array([0.78575084, 0.79608967, 0.80417648, 0.80233391]), 'split1_test_score': array([0.77774365, 0.78787879, 0.8005733 , 0.80108518]), 'split2_test_score': array([0.78931204, 0.7989353 , 0.8034398 , 0.79821867]), 'mean_test_score': array([0.7842689 , 0.79430131, 0.80272991, 0.80054598]), 'std_test_score': array([0.00483756, 0.00468754, 0.00155429, 0.00172277]), 'rank_test_score': array([4, 3, 1, 2], dtype=int32), 'split0_train_score': array([0.83021089, 0.86384111, 0.93074324, 0.94625307]), 'split1_train_score': array([0.83272764, 0.86635614, 0.9344321 , 0.94907099]), 'split2_train_score': array([0.83544045, 0.86789169, 0.93187286, 0.94733071]), 'mean_train_score': array([0.83279299, 0.86602965, 0.9323494 , 0.94755159]), 'std_train_score': array([0.00213546, 0.00166968, 0.00154321, 0.00116097])}\n"
     ]
    }
   ],
   "source": [
    "param_grid = {\"C\": [.5,1,5,10]}\n",
    "start_time = time.clock()\n",
    "\n",
    "# run grid search \n",
    "grid_search = GridSearchCV(RBF_1, param_grid=param_grid,n_jobs=-1)\n",
    "\n",
    "grid_search.fit(features_train, target_train)\n",
    "\n",
    "print(\"Time to run\", time.clock() - start_time, \"seconds\")\n",
    "print(grid_search.cv_results_)"
   ]
  },
  {
   "cell_type": "markdown",
   "metadata": {},
   "source": [
    "According to the grid search, the best C value is .25. We will now construct another RBF model with these parameters. "
   ]
  },
  {
   "cell_type": "markdown",
   "metadata": {},
   "source": [
    "### SVM RBF 2"
   ]
  },
  {
   "cell_type": "code",
   "execution_count": 252,
   "metadata": {},
   "outputs": [
    {
     "name": "stdout",
     "output_type": "stream",
     "text": [
      "SVC(C=1.0, cache_size=200, class_weight=None, coef0=0.0,\n",
      "  decision_function_shape='ovr', degree=3, gamma='auto', kernel='rbf',\n",
      "  max_iter=-1, probability=False, random_state=None, shrinking=True,\n",
      "  tol=0.001, verbose=False)\n"
     ]
    }
   ],
   "source": [
    "RBF = SVC(kernel='rbf')\n",
    "print(RBF)"
   ]
  },
  {
   "cell_type": "code",
   "execution_count": 264,
   "metadata": {},
   "outputs": [
    {
     "name": "stdout",
     "output_type": "stream",
     "text": [
      "             precision    recall  f1-score   support\n",
      "\n",
      "         No       0.85      0.92      0.88     14939\n",
      "        Yes       0.65      0.47      0.55      4598\n",
      "\n",
      "avg / total       0.80      0.82      0.80     19537\n",
      "\n",
      "[[13753  1186]\n",
      " [ 2419  2179]]\n",
      "0.8154783231816554\n",
      "Time to run 550.9588970000004 seconds\n"
     ]
    }
   ],
   "source": [
    "RBF_2 = SVC(kernel='rbf', C=5,gamma=.25)\n",
    "RBF_2.fit(features_train, target_train)\n",
    "RBF_2_predicted = RBF_2.predict(features_test)\n",
    "expected = target_test\n",
    "# summarize the fit of the model\n",
    "print(classification_report(expected, RBF_2_predicted,target_names=['No', 'Yes']))\n",
    "print(confusion_matrix(expected, RBF_2_predicted))\n",
    "print(accuracy_score(expected,RBF_2_predicted))\n",
    "print(\"Time to run\", time.clock() - start_time, \"seconds\")"
   ]
  },
  {
   "cell_type": "markdown",
   "metadata": {},
   "source": [
    "Adding the 'best' parameters identified by the grid searches resulted in a poor model. It is the positive class recall that is particularly poor at .47."
   ]
  },
  {
   "cell_type": "markdown",
   "metadata": {},
   "source": [
    "### SVM RBF 3"
   ]
  },
  {
   "cell_type": "code",
   "execution_count": 266,
   "metadata": {},
   "outputs": [
    {
     "name": "stdout",
     "output_type": "stream",
     "text": [
      "             precision    recall  f1-score   support\n",
      "\n",
      "         No       0.85      0.92      0.88     14939\n",
      "        Yes       0.65      0.47      0.55      4598\n",
      "\n",
      "avg / total       0.80      0.82      0.80     19537\n",
      "\n",
      "[[13753  1186]\n",
      " [ 2419  2179]]\n",
      "0.8154783231816554\n",
      "Time to run 500.2173279999997 seconds\n"
     ]
    }
   ],
   "source": [
    "start_time = time.clock()\n",
    "from sklearn.svm import SVC\n",
    "#standard linear SVC\n",
    "RBF_3 = SVC(kernel='rbf', C=5, degree=3, class_weight=None,gamma=0.25)\n",
    "RBF_3.fit(features_train, target_train)\n",
    "RBF_3_predicted = RBF_3.predict(features_test)\n",
    "expected = target_test\n",
    "# summarize the fit of the model\n",
    "print(classification_report(expected, RBF_3_predicted,target_names=['No', 'Yes']))\n",
    "print(confusion_matrix(expected, RBF_3_predicted))\n",
    "print(accuracy_score(expected,RBF_3_predicted))\n",
    "print(\"Time to run\", time.clock() - start_time, \"seconds\")"
   ]
  },
  {
   "cell_type": "markdown",
   "metadata": {},
   "source": [
    "Removing class weights had no effect. Now we'll move on to the bagging classifier."
   ]
  },
  {
   "cell_type": "markdown",
   "metadata": {},
   "source": [
    "# Bagging Classifier"
   ]
  },
  {
   "cell_type": "markdown",
   "metadata": {},
   "source": [
    "### Bagging Classifier 1"
   ]
  },
  {
   "cell_type": "markdown",
   "metadata": {},
   "source": [
    "Standard tuning"
   ]
  },
  {
   "cell_type": "code",
   "execution_count": 186,
   "metadata": {},
   "outputs": [
    {
     "name": "stdout",
     "output_type": "stream",
     "text": [
      "BaggingClassifier(base_estimator=None, bootstrap=True,\n",
      "         bootstrap_features=False, max_features=1.0, max_samples=1.0,\n",
      "         n_estimators=100, n_jobs=1, oob_score=False, random_state=0,\n",
      "         verbose=0, warm_start=False)\n",
      "Bagging Accuracy 0.8517684393714491\n",
      "             precision    recall  f1-score   support\n",
      "\n",
      "         No       0.89      0.92      0.90     14939\n",
      "        Yes       0.71      0.62      0.66      4598\n",
      "\n",
      "avg / total       0.85      0.85      0.85     19537\n",
      "\n",
      "[[13777  1162]\n",
      " [ 1734  2864]]\n"
     ]
    }
   ],
   "source": [
    "from sklearn.ensemble import BaggingClassifier\n",
    "Bag_1 = BaggingClassifier(n_estimators=100, random_state=0)\n",
    "print(Bag_1)\n",
    "Bag_1.fit(features_train, target_train)\n",
    "Bag_1_predicted=Bag_1.predict(features_test)\n",
    "expected = target_test\n",
    "print(\"Bagging Accuracy\", accuracy_score(expected,Bag_1_predicted))\n",
    "print(classification_report(expected, Bag_1_predicted,target_names=['No', 'Yes']))\n",
    "print(confusion_matrix(expected, Bag_1_predicted))"
   ]
  },
  {
   "cell_type": "markdown",
   "metadata": {},
   "source": [
    "This bagging classifier performed exactly the same as the Random Forest 1 model. Let's see how increasing the number of estimators affects the model. Will use 500 (smae number of trees in RF model)."
   ]
  },
  {
   "cell_type": "markdown",
   "metadata": {},
   "source": [
    "### Bagging Classifier 2"
   ]
  },
  {
   "cell_type": "code",
   "execution_count": 188,
   "metadata": {},
   "outputs": [
    {
     "name": "stdout",
     "output_type": "stream",
     "text": [
      "Bagging Accuracy 0.8532528023749808\n",
      "             precision    recall  f1-score   support\n",
      "\n",
      "         No       0.89      0.92      0.91     14939\n",
      "        Yes       0.71      0.63      0.67      4598\n",
      "\n",
      "avg / total       0.85      0.85      0.85     19537\n",
      "\n",
      "[[13786  1153]\n",
      " [ 1714  2884]]\n"
     ]
    }
   ],
   "source": [
    "Bag_2 = BaggingClassifier(n_estimators=500, random_state=0)\n",
    "Bag_2.fit(features_train, target_train)\n",
    "Bag_2_predicted=Bag_2.predict(features_test)\n",
    "expected = target_test\n",
    "print(\"Bagging Accuracy\", accuracy_score(expected,Bag_2_predicted))\n",
    "print(classification_report(expected, Bag_2_predicted,target_names=['No', 'Yes']))\n",
    "print(confusion_matrix(expected, Bag_2_predicted))"
   ]
  },
  {
   "cell_type": "markdown",
   "metadata": {},
   "source": [
    "Increasing the number of estimators slightly increased the recall and F1 scores (by .01) of both classes, although it did not change the average F1 score. The overall accuracy was .853, which was .004 higher than the RF model. Now it's time to cross-validate."
   ]
  },
  {
   "cell_type": "markdown",
   "metadata": {},
   "source": [
    "#### Cross-validate"
   ]
  },
  {
   "cell_type": "code",
   "execution_count": 189,
   "metadata": {},
   "outputs": [
    {
     "name": "stdout",
     "output_type": "stream",
     "text": [
      "CV Score for each K [0.84851586 0.84817468 0.85636302 0.83316274 0.85295121 0.84680996\n",
      " 0.84334471 0.84880546 0.84368601 0.84841243]\n",
      "CV mean score:  0.8470226087012069\n"
     ]
    }
   ],
   "source": [
    "# Will use K = 10\n",
    "Bag_2_CV_scores = cross_val_score(Bag_2, features_train, target_train, cv=10,scoring='accuracy')\n",
    "print('CV Score for each K', Bag_2_CV_scores)\n",
    "print('CV mean score: ', Bag_2_CV_scores.mean())  "
   ]
  },
  {
   "cell_type": "markdown",
   "metadata": {},
   "source": [
    "The CV scores are consistent (+/- 1 or 2 form the mean), and the mean score is .002 higher than the RF model. Although these two models are almost identical, the Bagging classifier was slightly more accurate and had .01 higher recall for both classes. My only reservation about the bagging classifier is that is seemed to take much longer to run than random forest at 500 estimators. "
   ]
  },
  {
   "cell_type": "markdown",
   "metadata": {},
   "source": [
    "#### Illustrating Bagging Classifier 2 with a ROC curve"
   ]
  },
  {
   "cell_type": "code",
   "execution_count": 190,
   "metadata": {},
   "outputs": [
    {
     "name": "stdout",
     "output_type": "stream",
     "text": [
      "ROC AUC: 0.896\n"
     ]
    },
    {
     "data": {
      "image/png": "[encoded data removed]",
      "text/plain": [
       "<matplotlib.figure.Figure at 0x1a25145be0>"
      ]
     },
     "metadata": {},
     "output_type": "display_data"
    }
   ],
   "source": [
    "# Determine the false positive and true positive rates\n",
    "fpr, tpr, _ = roc_curve(target_test, Bag_2.predict_proba(features_test)[:,1]) \n",
    "    \n",
    "# Calculate the AUC\n",
    "roc_auc = auc(fpr, tpr)\n",
    "print('ROC AUC: %0.3f' % roc_auc)\n",
    " \n",
    "# Plot of a ROC curve for a specific class\n",
    "plt.figure()\n",
    "plt.plot(fpr, tpr, label='ROC curve (area = %0.3f)' % roc_auc)\n",
    "plt.plot([0, 1], [0, 1], 'k--')\n",
    "plt.xlim([0.0, 1.0])\n",
    "plt.ylim([0.0, 1.05])\n",
    "plt.xlabel('False Positive Rate')\n",
    "plt.ylabel('True Positive Rate')\n",
    "plt.title('ROC Curve')\n",
    "plt.legend(loc=\"lower right\")\n",
    "plt.show()"
   ]
  },
  {
   "cell_type": "markdown",
   "metadata": {},
   "source": [
    "The ROC curve for the bagging classifer is very similar to the RF ROC curve. The area under the curve is .004 higher than RF, and the curve is noticeably steeper along the y-axis, illustrating this model's higher recall without sacrifice in precision. "
   ]
  },
  {
   "cell_type": "markdown",
   "metadata": {},
   "source": [
    "### Bagging classifier 3"
   ]
  },
  {
   "cell_type": "markdown",
   "metadata": {},
   "source": [
    "Since adding a higher number of estimators (500) for the boosting classifier 2, I was curious to add even more (750) to see how accuracy and F1 scores would be impacted. I also added in the out of bag (oob) score parameter so that the model will be cross validated as it is built. This will lessen the need to perform further cross-validation with this computationally expensive model. "
   ]
  },
  {
   "cell_type": "code",
   "execution_count": 263,
   "metadata": {},
   "outputs": [
    {
     "name": "stdout",
     "output_type": "stream",
     "text": [
      "Bagging Accuracy 0.8534575420996059\n",
      "             precision    recall  f1-score   support\n",
      "\n",
      "         No       0.89      0.92      0.91     14939\n",
      "        Yes       0.71      0.63      0.67      4598\n",
      "\n",
      "avg / total       0.85      0.85      0.85     19537\n",
      "\n",
      "[[13778  1161]\n",
      " [ 1702  2896]]\n"
     ]
    }
   ],
   "source": [
    "Bag_3 = BaggingClassifier(n_estimators=750, random_state=0,oob_score=True,n_jobs=-1)\n",
    "Bag_3.fit(features_train, target_train)\n",
    "Bag_3_predicted=Bag_3.predict(features_test)\n",
    "expected = target_test\n",
    "print(\"Bagging Accuracy\", accuracy_score(expected,Bag_3_predicted))\n",
    "print(classification_report(expected, Bag_3_predicted,target_names=['No', 'Yes']))\n",
    "print(confusion_matrix(expected, Bag_3_predicted))"
   ]
  },
  {
   "cell_type": "markdown",
   "metadata": {},
   "source": [
    "Adding more estimators to the bagging classifier increased accuracy by a tiny amount (.0004). The precision, recall, and thus, F1-score metrics were unchanged. Since adding 250 estimators increased the time it took to run this model, and did not result in any real increase in accuracy, the second bagging classifier is preferred."
   ]
  },
  {
   "cell_type": "markdown",
   "metadata": {},
   "source": [
    "# Boosting"
   ]
  },
  {
   "cell_type": "markdown",
   "metadata": {},
   "source": [
    "### Adaboost 1"
   ]
  },
  {
   "cell_type": "code",
   "execution_count": 191,
   "metadata": {},
   "outputs": [
    {
     "name": "stdout",
     "output_type": "stream",
     "text": [
      "AdaBoostClassifier(algorithm='SAMME.R', base_estimator=None,\n",
      "          learning_rate=1.0, n_estimators=50, random_state=None)\n",
      "Adaboost Accuracy 0.8582177406971387\n",
      "             precision    recall  f1-score   support\n",
      "\n",
      "         No       0.89      0.94      0.91     14939\n",
      "        Yes       0.74      0.61      0.67      4598\n",
      "\n",
      "avg / total       0.85      0.86      0.85     19537\n",
      "\n",
      "[[13978   961]\n",
      " [ 1809  2789]]\n"
     ]
    }
   ],
   "source": [
    "from sklearn.ensemble import AdaBoostClassifier\n",
    "Boost_1 = AdaBoostClassifier()\n",
    "print(Boost_1)\n",
    "Boost_1.fit(features_train, target_train)\n",
    "Boost_1_predicted=Boost_1.predict(features_test)\n",
    "expected = target_test\n",
    "print(\"Adaboost Accuracy\", accuracy_score(expected,Boost_1_predicted))\n",
    "print(classification_report(expected, Boost_1_predicted,target_names=['No', 'Yes']))\n",
    "print(confusion_matrix(expected, Boost_1_predicted))"
   ]
  },
  {
   "cell_type": "markdown",
   "metadata": {},
   "source": [
    "This model performed similarly to the bagging classifier, though with higher positive-class precision and lower recall. Let's change the number of estimators to see if it improves."
   ]
  },
  {
   "cell_type": "markdown",
   "metadata": {},
   "source": [
    "### Adaboost 2"
   ]
  },
  {
   "cell_type": "code",
   "execution_count": 194,
   "metadata": {},
   "outputs": [
    {
     "name": "stdout",
     "output_type": "stream",
     "text": [
      "Adaboost Accuracy 0.868403541997236\n",
      "             precision    recall  f1-score   support\n",
      "\n",
      "         No       0.89      0.94      0.92     14939\n",
      "        Yes       0.76      0.64      0.70      4598\n",
      "\n",
      "avg / total       0.86      0.87      0.86     19537\n",
      "\n",
      "[[14036   903]\n",
      " [ 1668  2930]]\n"
     ]
    }
   ],
   "source": [
    "Boost_2 = AdaBoostClassifier(n_estimators=300)\n",
    "Boost_2.fit(features_train, target_train)\n",
    "Boost_2_predicted=Boost_2.predict(features_test)\n",
    "expected = target_test\n",
    "print(\"Adaboost Accuracy\", accuracy_score(expected,Boost_2_predicted))\n",
    "print(classification_report(expected, Boost_2_predicted,target_names=['No', 'Yes']))\n",
    "print(confusion_matrix(expected, Boost_2_predicted))"
   ]
  },
  {
   "cell_type": "markdown",
   "metadata": {},
   "source": [
    "Increasing the number of estimators noticeably improved the model. Accuracy is the highest seen so far, as well as F1 scores. Let's do a grid search to find the best number of estimators."
   ]
  },
  {
   "cell_type": "markdown",
   "metadata": {},
   "source": [
    "#### n_estimators Grid Search"
   ]
  },
  {
   "cell_type": "code",
   "execution_count": 196,
   "metadata": {},
   "outputs": [
    {
     "name": "stdout",
     "output_type": "stream",
     "text": [
      "Time to run 26.517276999999922 seconds\n",
      "Scores {'mean_fit_time': array([ 8.26637642, 16.83995024, 21.87350655, 33.35217134, 33.94882433]), 'std_fit_time': array([0.04572944, 0.06277779, 1.15362772, 1.49602914, 3.47588098]), 'mean_score_time': array([0.33363835, 0.69278757, 1.12630542, 1.55722706, 1.07858753]), 'std_score_time': array([0.02350045, 0.13313531, 0.15585343, 0.33775301, 0.25169943]), 'param_n_estimators': masked_array(data=[100, 200, 300, 400, 500],\n",
      "             mask=[False, False, False, False, False],\n",
      "       fill_value='?',\n",
      "            dtype=object), 'params': [{'n_estimators': 100}, {'n_estimators': 200}, {'n_estimators': 300}, {'n_estimators': 400}, {'n_estimators': 500}], 'split0_test_score': array([0.86794964, 0.86958747, 0.87081585, 0.87081585, 0.87061112]), 'split1_test_score': array([0.86302211, 0.86680999, 0.86824324, 0.86895987, 0.8704955 ]), 'split2_test_score': array([0.86056511, 0.86353399, 0.86486486, 0.86466011, 0.86506962]), 'mean_test_score': array([0.86384576, 0.86664392, 0.86797475, 0.86814537, 0.86872547]), 'std_test_score': array([0.00307048, 0.00247413, 0.00243691, 0.00257824, 0.00258545]), 'rank_test_score': array([5, 4, 3, 2, 1], dtype=int32), 'split0_train_score': array([0.86501843, 0.86819206, 0.8704955 , 0.87054668, 0.87146806]), 'split1_train_score': array([0.86563956, 0.86896658, 0.87029738, 0.87086042, 0.87167938]), 'split2_train_score': array([0.86707273, 0.87039975, 0.8719353 , 0.87203767, 0.87275426]), 'mean_train_score': array([0.86591024, 0.86918613, 0.87090939, 0.87114826, 0.87196723]), 'std_train_score': array([0.00086023, 0.00091456, 0.00072992, 0.00064182, 0.00056316])}\n",
      "Best Score 0.8687254734686913\n",
      "Best Param {'n_estimators': 500}\n"
     ]
    }
   ],
   "source": [
    "param_grid = {\"n_estimators\": [100,200,300,400,500]}\n",
    "start_time = time.clock()\n",
    "\n",
    "# run grid search \n",
    "grid_search = GridSearchCV(Boost_1, param_grid=param_grid,n_jobs=-1)\n",
    "\n",
    "grid_search.fit(features_train, target_train)\n",
    "\n",
    "print(\"Time to run\", time.clock() - start_time, \"seconds\")\n",
    "print(\"Scores\", grid_search.cv_results_)\n",
    "print(\"Best Score\", grid_search.best_score_)\n",
    "print(\"Best Param\", grid_search.best_params_)"
   ]
  },
  {
   "cell_type": "markdown",
   "metadata": {},
   "source": [
    "#### Learning_rate grid search"
   ]
  },
  {
   "cell_type": "code",
   "execution_count": 261,
   "metadata": {},
   "outputs": [
    {
     "name": "stdout",
     "output_type": "stream",
     "text": [
      "Time to run 3.5108110000001034 seconds\n",
      "Scores {'mean_fit_time': array([3.68686597, 3.77120829, 3.55549463, 0.95431598, 0.79231334]), 'std_fit_time': array([0.11628686, 0.03343444, 0.28284283, 0.05920134, 0.01206951]), 'mean_score_time': array([0.19543346, 0.17502729, 0.14243595, 0.19068162, 0.1337324 ]), 'std_score_time': array([0.00531585, 0.02178867, 0.03503478, 0.00646887, 0.00314158]), 'param_learning_rate': masked_array(data=[0.5, 1, 2, 3, 4],\n",
      "             mask=[False, False, False, False, False],\n",
      "       fill_value='?',\n",
      "            dtype=object), 'params': [{'learning_rate': 0.5}, {'learning_rate': 1}, {'learning_rate': 2}, {'learning_rate': 3}, {'learning_rate': 4}], 'split0_test_score': array([0.86109121, 0.86344559, 0.7581124 , 0.2418876 , 0.2418876 ]), 'split1_test_score': array([0.85636773, 0.85821048, 0.75808763, 0.24191237, 0.24191237]), 'split2_test_score': array([0.85687961, 0.85728911, 0.75808763, 0.24191237, 0.24191237]), 'mean_test_score': array([0.85811295, 0.85964852, 0.75809589, 0.24190411, 0.24190411]), 'std_test_score': array([2.11639528e-03, 2.71128915e-03, 1.16737157e-05, 1.16737157e-05,\n",
      "       1.16737157e-05]), 'rank_test_score': array([2, 1, 3, 4, 4], dtype=int32), 'split0_train_score': array([0.85836405, 0.86030917, 0.75808763, 0.24191237, 0.24191237]), 'split1_train_score': array([0.85847367, 0.86046988, 0.75810002, 0.24189998, 0.24189998]), 'split2_train_score': array([0.86123765, 0.86113528, 0.75810002, 0.24189998, 0.24189998]), 'mean_train_score': array([0.85935845, 0.86063811, 0.75809589, 0.24190411, 0.24190411]), 'std_train_score': array([1.32954657e-03, 3.57622503e-04, 5.83705704e-06, 5.83705704e-06,\n",
      "       5.83705704e-06])}\n",
      "Best Score 0.8596485241426378\n",
      "Best Param {'learning_rate': 1}\n"
     ]
    }
   ],
   "source": [
    "param_grid = {\"learning_rate\": [.5,1,2,3,4]}\n",
    "start_time = time.clock()\n",
    "\n",
    "# run grid search \n",
    "grid_search = GridSearchCV(Boost_1, param_grid=param_grid,n_jobs=-1)\n",
    "\n",
    "grid_search.fit(features_train, target_train)\n",
    "\n",
    "print(\"Time to run\", time.clock() - start_time, \"seconds\")\n",
    "print(\"Scores\", grid_search.cv_results_)\n",
    "print(\"Best Score\", grid_search.best_score_)\n",
    "print(\"Best Param\", grid_search.best_params_)"
   ]
  },
  {
   "cell_type": "markdown",
   "metadata": {},
   "source": [
    "The best n_estimators is 500, according to the grid search. The best learning rate was identified as the default of 1.0. Let's run another model with this number."
   ]
  },
  {
   "cell_type": "markdown",
   "metadata": {},
   "source": [
    "### Adaboost 3"
   ]
  },
  {
   "cell_type": "code",
   "execution_count": 197,
   "metadata": {},
   "outputs": [
    {
     "name": "stdout",
     "output_type": "stream",
     "text": [
      "Adaboost Accuracy 0.8706044940369555\n",
      "             precision    recall  f1-score   support\n",
      "\n",
      "         No       0.90      0.94      0.92     14939\n",
      "        Yes       0.77      0.64      0.70      4598\n",
      "\n",
      "avg / total       0.87      0.87      0.87     19537\n",
      "\n",
      "[[14051   888]\n",
      " [ 1640  2958]]\n"
     ]
    }
   ],
   "source": [
    "Boost_3 = AdaBoostClassifier(n_estimators=500)\n",
    "Boost_3.fit(features_train, target_train)\n",
    "Boost_3_predicted=Boost_3.predict(features_test)\n",
    "expected = target_test\n",
    "print(\"Adaboost Accuracy\", accuracy_score(expected,Boost_3_predicted))\n",
    "print(classification_report(expected, Boost_3_predicted,target_names=['No', 'Yes']))\n",
    "print(confusion_matrix(expected, Boost_3_predicted))"
   ]
  },
  {
   "cell_type": "markdown",
   "metadata": {},
   "source": [
    "#### Cross-validate"
   ]
  },
  {
   "cell_type": "code",
   "execution_count": 199,
   "metadata": {},
   "outputs": [
    {
     "name": "stdout",
     "output_type": "stream",
     "text": [
      "CV Score for each K [0.87853975 0.86932787 0.87103378 0.86216308 0.87853975 0.86591607\n",
      " 0.86996587 0.87406143 0.8662116  0.86138614]\n",
      "CV mean score:  0.8697145346702516\n"
     ]
    }
   ],
   "source": [
    "# Will use K = 10\n",
    "Boost_3_CV_scores = cross_val_score(Boost_3, features_train, target_train, cv=10,scoring='accuracy')\n",
    "print('CV Score for each K', Boost_3_CV_scores)\n",
    "print('CV mean score: ', Boost_3_CV_scores.mean())  "
   ]
  },
  {
   "cell_type": "markdown",
   "metadata": {},
   "source": [
    "The CV scores have great consistency, all within +/- .01 of the mean, which is .8697, the highest CV mean seen so far."
   ]
  },
  {
   "cell_type": "code",
   "execution_count": 198,
   "metadata": {},
   "outputs": [
    {
     "name": "stdout",
     "output_type": "stream",
     "text": [
      "ROC AUC: 0.926\n"
     ]
    },
    {
     "data": {
      "image/png": "[encoded data removed]",
      "text/plain": [
       "<matplotlib.figure.Figure at 0x1a28aae438>"
      ]
     },
     "metadata": {},
     "output_type": "display_data"
    }
   ],
   "source": [
    "# Determine the false positive and true positive rates\n",
    "fpr, tpr, _ = roc_curve(target_test, Boost_3.predict_proba(features_test)[:,1]) \n",
    "    \n",
    "# Calculate the AUC\n",
    "roc_auc = auc(fpr, tpr)\n",
    "print('ROC AUC: %0.3f' % roc_auc)\n",
    " \n",
    "# Plot of a ROC curve for a specific class\n",
    "plt.figure()\n",
    "plt.plot(fpr, tpr, label='ROC curve (area = %0.3f)' % roc_auc)\n",
    "plt.plot([0, 1], [0, 1], 'k--')\n",
    "plt.xlim([0.0, 1.0])\n",
    "plt.ylim([0.0, 1.05])\n",
    "plt.xlabel('False Positive Rate')\n",
    "plt.ylabel('True Positive Rate')\n",
    "plt.title('ROC Curve')\n",
    "plt.legend(loc=\"lower right\")\n",
    "plt.show()"
   ]
  },
  {
   "cell_type": "markdown",
   "metadata": {},
   "source": [
    "The ROC curve illustrates a steeper and fatter curve than prevous models, with a AUC of .926.\n",
    "\n",
    "So far, Adaboost 3, having 500 estimators, is the best performer."
   ]
  },
  {
   "cell_type": "markdown",
   "metadata": {},
   "source": [
    "# Stacking"
   ]
  },
  {
   "cell_type": "markdown",
   "metadata": {},
   "source": [
    "### Stacking ensemble 1"
   ]
  },
  {
   "cell_type": "code",
   "execution_count": 200,
   "metadata": {},
   "outputs": [
    {
     "name": "stdout",
     "output_type": "stream",
     "text": [
      "Accuracy: 0.84 (+/- 0.00) [Random Forest]\n",
      "Accuracy: 0.63 (+/- 0.02) [naive Bayes]\n",
      "Accuracy: 0.87 (+/- 0.00) [AdaBoost Decision Tree]\n"
     ]
    },
    {
     "name": "stderr",
     "output_type": "stream",
     "text": [
      "/Users/kristopherprofit/anaconda3/lib/python3.6/site-packages/sklearn/preprocessing/label.py:151: DeprecationWarning: The truth value of an empty array is ambiguous. Returning False, but in future this will result in an error. Use `array.size > 0` to check that an array is not empty.\n",
      "  if diff:\n",
      "/Users/kristopherprofit/anaconda3/lib/python3.6/site-packages/sklearn/preprocessing/label.py:151: DeprecationWarning: The truth value of an empty array is ambiguous. Returning False, but in future this will result in an error. Use `array.size > 0` to check that an array is not empty.\n",
      "  if diff:\n",
      "/Users/kristopherprofit/anaconda3/lib/python3.6/site-packages/sklearn/preprocessing/label.py:151: DeprecationWarning: The truth value of an empty array is ambiguous. Returning False, but in future this will result in an error. Use `array.size > 0` to check that an array is not empty.\n",
      "  if diff:\n",
      "/Users/kristopherprofit/anaconda3/lib/python3.6/site-packages/sklearn/preprocessing/label.py:151: DeprecationWarning: The truth value of an empty array is ambiguous. Returning False, but in future this will result in an error. Use `array.size > 0` to check that an array is not empty.\n",
      "  if diff:\n"
     ]
    },
    {
     "name": "stdout",
     "output_type": "stream",
     "text": [
      "Accuracy: 0.85 (+/- 0.00) [Ensemble]\n"
     ]
    },
    {
     "name": "stderr",
     "output_type": "stream",
     "text": [
      "/Users/kristopherprofit/anaconda3/lib/python3.6/site-packages/sklearn/preprocessing/label.py:151: DeprecationWarning: The truth value of an empty array is ambiguous. Returning False, but in future this will result in an error. Use `array.size > 0` to check that an array is not empty.\n",
      "  if diff:\n"
     ]
    }
   ],
   "source": [
    "from sklearn.linear_model import LogisticRegression\n",
    "from sklearn.naive_bayes import GaussianNB\n",
    "from sklearn.ensemble import RandomForestClassifier\n",
    "from sklearn.ensemble import VotingClassifier\n",
    "from sklearn.ensemble import AdaBoostClassifier\n",
    "from sklearn.tree import DecisionTreeClassifier\n",
    "\n",
    "#Three Models RF, NB, BDT\n",
    "Stack_RF = RandomForestClassifier(random_state=1)\n",
    "Stack_NB = GaussianNB()\n",
    "Stack_BT = AdaBoostClassifier(DecisionTreeClassifier(max_depth=3),\n",
    "                         algorithm=\"SAMME\",\n",
    "                         n_estimators=200)\n",
    "Stack_1 = VotingClassifier(estimators=[('Random Forest', Stack_RF), ('Gaussian NB', Stack_NB), \n",
    "                                       ('Boosted Tree', Stack_BT)], voting='hard')\n",
    "for MV, label in zip([Stack_RF, Stack_NB, Stack_BT, Stack_1], ['Random Forest', 'naive Bayes', \n",
    "                                                'AdaBoost Decision Tree', 'Ensemble']):\n",
    "\n",
    "    Stack_scores = cross_val_score(MV, features_train, target_train, cv=5, scoring='accuracy')\n",
    "    print(\"Accuracy: %0.2f (+/- %0.2f) [%s]\" % (Stack_scores.mean(), Stack_scores.std(), label))"
   ]
  },
  {
   "cell_type": "markdown",
   "metadata": {},
   "source": [
    "The accuracy of the ensemble was .85. This is a good accuracy, however the Naive Bayes model accuracy was only .63. Let's try replacing it with a bagging classifier. "
   ]
  },
  {
   "cell_type": "markdown",
   "metadata": {},
   "source": [
    "### Stacking ensemble 2"
   ]
  },
  {
   "cell_type": "code",
   "execution_count": 201,
   "metadata": {},
   "outputs": [
    {
     "name": "stdout",
     "output_type": "stream",
     "text": [
      "Accuracy: 0.84 (+/- 0.00) [Random Forest]\n",
      "Accuracy: 0.85 (+/- 0.00) [Bagging Classifier]\n",
      "Accuracy: 0.87 (+/- 0.00) [AdaBoost Decision Tree]\n"
     ]
    },
    {
     "name": "stderr",
     "output_type": "stream",
     "text": [
      "/Users/kristopherprofit/anaconda3/lib/python3.6/site-packages/sklearn/preprocessing/label.py:151: DeprecationWarning: The truth value of an empty array is ambiguous. Returning False, but in future this will result in an error. Use `array.size > 0` to check that an array is not empty.\n",
      "  if diff:\n",
      "/Users/kristopherprofit/anaconda3/lib/python3.6/site-packages/sklearn/preprocessing/label.py:151: DeprecationWarning: The truth value of an empty array is ambiguous. Returning False, but in future this will result in an error. Use `array.size > 0` to check that an array is not empty.\n",
      "  if diff:\n",
      "/Users/kristopherprofit/anaconda3/lib/python3.6/site-packages/sklearn/preprocessing/label.py:151: DeprecationWarning: The truth value of an empty array is ambiguous. Returning False, but in future this will result in an error. Use `array.size > 0` to check that an array is not empty.\n",
      "  if diff:\n",
      "/Users/kristopherprofit/anaconda3/lib/python3.6/site-packages/sklearn/preprocessing/label.py:151: DeprecationWarning: The truth value of an empty array is ambiguous. Returning False, but in future this will result in an error. Use `array.size > 0` to check that an array is not empty.\n",
      "  if diff:\n"
     ]
    },
    {
     "name": "stdout",
     "output_type": "stream",
     "text": [
      "Accuracy: 0.86 (+/- 0.00) [Ensemble]\n"
     ]
    },
    {
     "name": "stderr",
     "output_type": "stream",
     "text": [
      "/Users/kristopherprofit/anaconda3/lib/python3.6/site-packages/sklearn/preprocessing/label.py:151: DeprecationWarning: The truth value of an empty array is ambiguous. Returning False, but in future this will result in an error. Use `array.size > 0` to check that an array is not empty.\n",
      "  if diff:\n"
     ]
    }
   ],
   "source": [
    "#Three Models RF, Bag, BT\n",
    "Stack_RF = RandomForestClassifier(random_state=1)\n",
    "Stack_Bag = BaggingClassifier(n_estimators=500, random_state=0)\n",
    "Stack_BT = AdaBoostClassifier(DecisionTreeClassifier(max_depth=3),\n",
    "                         algorithm=\"SAMME\",\n",
    "                         n_estimators=200)\n",
    "Stack_2 = VotingClassifier(estimators=[('Random Forest', Stack_RF), ('Bagging Classifier', Stack_Bag), \n",
    "                                       ('Boosted Tree', Stack_BT)], voting='hard')\n",
    "for MV, label in zip([Stack_RF, Stack_Bag, Stack_BT, Stack_2], ['Random Forest', 'Bagging Classifier', \n",
    "                                                'AdaBoost Decision Tree', 'Ensemble']):\n",
    "\n",
    "    Stack2_scores = cross_val_score(MV, features_train, target_train, cv=5, scoring='accuracy')\n",
    "    print(\"Accuracy: %0.2f (+/- %0.2f) [%s]\" % (Stack2_scores.mean(), Stack2_scores.std(), label))"
   ]
  },
  {
   "cell_type": "markdown",
   "metadata": {},
   "source": [
    "Replacing the NB model with a bagging classifier increased the ensemble's accuracy by .01."
   ]
  },
  {
   "cell_type": "code",
   "execution_count": 268,
   "metadata": {},
   "outputs": [
    {
     "name": "stdout",
     "output_type": "stream",
     "text": [
      "Accuracy: 0.85 (+/- 0.00) [Random Forest]\n",
      "Accuracy: 0.85 (+/- 0.00) [Bagging Classifier]\n",
      "Accuracy: 0.87 (+/- 0.00) [AdaBoost]\n"
     ]
    },
    {
     "name": "stderr",
     "output_type": "stream",
     "text": [
      "/Users/kristopherprofit/anaconda3/lib/python3.6/site-packages/sklearn/preprocessing/label.py:151: DeprecationWarning: The truth value of an empty array is ambiguous. Returning False, but in future this will result in an error. Use `array.size > 0` to check that an array is not empty.\n",
      "  if diff:\n",
      "/Users/kristopherprofit/anaconda3/lib/python3.6/site-packages/sklearn/preprocessing/label.py:151: DeprecationWarning: The truth value of an empty array is ambiguous. Returning False, but in future this will result in an error. Use `array.size > 0` to check that an array is not empty.\n",
      "  if diff:\n",
      "/Users/kristopherprofit/anaconda3/lib/python3.6/site-packages/sklearn/preprocessing/label.py:151: DeprecationWarning: The truth value of an empty array is ambiguous. Returning False, but in future this will result in an error. Use `array.size > 0` to check that an array is not empty.\n",
      "  if diff:\n",
      "/Users/kristopherprofit/anaconda3/lib/python3.6/site-packages/sklearn/preprocessing/label.py:151: DeprecationWarning: The truth value of an empty array is ambiguous. Returning False, but in future this will result in an error. Use `array.size > 0` to check that an array is not empty.\n",
      "  if diff:\n"
     ]
    },
    {
     "name": "stdout",
     "output_type": "stream",
     "text": [
      "Accuracy: 0.86 (+/- 0.00) [Ensemble]\n"
     ]
    },
    {
     "name": "stderr",
     "output_type": "stream",
     "text": [
      "/Users/kristopherprofit/anaconda3/lib/python3.6/site-packages/sklearn/preprocessing/label.py:151: DeprecationWarning: The truth value of an empty array is ambiguous. Returning False, but in future this will result in an error. Use `array.size > 0` to check that an array is not empty.\n",
      "  if diff:\n"
     ]
    }
   ],
   "source": [
    "#Three Models RF_1, Bag_2, Boost_3\n",
    "\n",
    "Stack_3 = VotingClassifier(estimators=[('Random Forest', RF_1), ('Bagging Classifier', Bag_2), \n",
    "                                       ('Adaboost', Boost_3)], voting='hard')\n",
    "for MV, label in zip([RF_1, Bag_2, Boost_3, Stack_3], ['Random Forest', 'Bagging Classifier', \n",
    "                                                'AdaBoost', 'Ensemble']):\n",
    "\n",
    "    Stack3_scores = cross_val_score(MV, features_train, target_train, cv=5, scoring='accuracy')\n",
    "    print(\"Accuracy: %0.2f (+/- %0.2f) [%s]\" % (Stack3_scores.mean(), Stack3_scores.std(), label))"
   ]
  },
  {
   "cell_type": "markdown",
   "metadata": {},
   "source": [
    "Creating a stacking model with the three best performing models (RF_1, Bag_2, and Boost_3) did not improve the ensemble enough to increase its accuracy score, although the score for RF_1 was higher than the standard RF model included in the other stacking models. "
   ]
  },
  {
   "cell_type": "markdown",
   "metadata": {},
   "source": [
    "# Stochastic Gradient Descent"
   ]
  },
  {
   "cell_type": "markdown",
   "metadata": {},
   "source": [
    "### SGD 1"
   ]
  },
  {
   "cell_type": "code",
   "execution_count": 242,
   "metadata": {},
   "outputs": [
    {
     "name": "stdout",
     "output_type": "stream",
     "text": [
      "SGDClassifier(alpha=0.0001, average=False, class_weight=None, epsilon=0.1,\n",
      "       eta0=0.0, fit_intercept=True, l1_ratio=0.15,\n",
      "       learning_rate='optimal', loss='hinge', max_iter=None, n_iter=None,\n",
      "       n_jobs=1, penalty='l2', power_t=0.5, random_state=None,\n",
      "       shuffle=True, tol=None, verbose=0, warm_start=False)\n"
     ]
    },
    {
     "name": "stderr",
     "output_type": "stream",
     "text": [
      "/Users/kristopherprofit/anaconda3/lib/python3.6/site-packages/sklearn/linear_model/stochastic_gradient.py:128: FutureWarning: max_iter and tol parameters have been added in <class 'sklearn.linear_model.stochastic_gradient.SGDClassifier'> in 0.19. If both are left unset, they default to max_iter=5 and tol=None. If tol is not None, max_iter defaults to max_iter=1000. From 0.21, default max_iter will be 1000, and default tol will be 1e-3.\n",
      "  \"and default tol will be 1e-3.\" % type(self), FutureWarning)\n"
     ]
    },
    {
     "name": "stdout",
     "output_type": "stream",
     "text": [
      "Adaboost Accuracy 0.8345191175717869\n",
      "             precision    recall  f1-score   support\n",
      "\n",
      "         No       0.90      0.88      0.89     14939\n",
      "        Yes       0.64      0.69      0.66      4598\n",
      "\n",
      "avg / total       0.84      0.83      0.84     19537\n",
      "\n",
      "[[13133  1806]\n",
      " [ 1427  3171]]\n"
     ]
    }
   ],
   "source": [
    "## Untuned\n",
    "\n",
    "from sklearn.linear_model import SGDClassifier\n",
    "\n",
    "SGD_1 = SGDClassifier()\n",
    "print(SGD_1)\n",
    "SGD_1.fit(features_train, target_train)\n",
    "SGD_1_predicted=SGD_1.predict(features_test)\n",
    "expected = target_test\n",
    "print(\"SGD Accuracy\", accuracy_score(expected,SGD_1_predicted))\n",
    "print(classification_report(expected, SGD_1_predicted,target_names=['No', 'Yes']))\n",
    "print(confusion_matrix(expected, SGD_1_predicted))\n"
   ]
  },
  {
   "cell_type": "markdown",
   "metadata": {},
   "source": [
    "### SGD 2"
   ]
  },
  {
   "cell_type": "code",
   "execution_count": 247,
   "metadata": {},
   "outputs": [
    {
     "name": "stdout",
     "output_type": "stream",
     "text": [
      "SGDClassifier(alpha=0.0001, average=False, class_weight='balanced',\n",
      "       epsilon=0.1, eta0=0.0, fit_intercept=True, l1_ratio=0.15,\n",
      "       learning_rate='optimal', loss='hinge', max_iter=None, n_iter=None,\n",
      "       n_jobs=1, penalty='l2', power_t=0.5, random_state=None,\n",
      "       shuffle=True, tol=None, verbose=0, warm_start=False)\n",
      "SGD Accuracy 0.8110764191022163\n",
      "             precision    recall  f1-score   support\n",
      "\n",
      "         No       0.93      0.81      0.87     14939\n",
      "        Yes       0.57      0.80      0.67      4598\n",
      "\n",
      "avg / total       0.85      0.81      0.82     19537\n",
      "\n",
      "[[12157  2782]\n",
      " [  909  3689]]\n"
     ]
    },
    {
     "name": "stderr",
     "output_type": "stream",
     "text": [
      "/Users/kristopherprofit/anaconda3/lib/python3.6/site-packages/sklearn/linear_model/stochastic_gradient.py:128: FutureWarning: max_iter and tol parameters have been added in <class 'sklearn.linear_model.stochastic_gradient.SGDClassifier'> in 0.19. If both are left unset, they default to max_iter=5 and tol=None. If tol is not None, max_iter defaults to max_iter=1000. From 0.21, default max_iter will be 1000, and default tol will be 1e-3.\n",
      "  \"and default tol will be 1e-3.\" % type(self), FutureWarning)\n"
     ]
    }
   ],
   "source": [
    "SGD_2 = SGDClassifier(class_weight = 'balanced')\n",
    "print(SGD_2)\n",
    "SGD_2.fit(features_train, target_train)\n",
    "SGD_2_predicted=SGD_2.predict(features_test)\n",
    "expected = target_test\n",
    "print(\"SGD Accuracy\", accuracy_score(expected,SGD_2_predicted))\n",
    "print(classification_report(expected, SGD_2_predicted,target_names=['No', 'Yes']))\n",
    "print(confusion_matrix(expected, SGD_2_predicted))"
   ]
  },
  {
   "cell_type": "markdown",
   "metadata": {},
   "source": [
    "### SGD 3"
   ]
  },
  {
   "cell_type": "code",
   "execution_count": 248,
   "metadata": {},
   "outputs": [
    {
     "name": "stdout",
     "output_type": "stream",
     "text": [
      "SGDClassifier(alpha=0.0001, average=False, class_weight='balanced',\n",
      "       epsilon=0.1, eta0=0.0, fit_intercept=True, l1_ratio=0.15,\n",
      "       learning_rate='optimal', loss='log', max_iter=None, n_iter=None,\n",
      "       n_jobs=1, penalty='l2', power_t=0.5, random_state=None,\n",
      "       shuffle=True, tol=None, verbose=0, warm_start=False)\n",
      "SGD Accuracy 0.7946460562010544\n",
      "             precision    recall  f1-score   support\n",
      "\n",
      "         No       0.95      0.77      0.85     14939\n",
      "        Yes       0.54      0.86      0.66      4598\n",
      "\n",
      "avg / total       0.85      0.79      0.81     19537\n",
      "\n",
      "[[11553  3386]\n",
      " [  626  3972]]\n"
     ]
    },
    {
     "name": "stderr",
     "output_type": "stream",
     "text": [
      "/Users/kristopherprofit/anaconda3/lib/python3.6/site-packages/sklearn/linear_model/stochastic_gradient.py:128: FutureWarning: max_iter and tol parameters have been added in <class 'sklearn.linear_model.stochastic_gradient.SGDClassifier'> in 0.19. If both are left unset, they default to max_iter=5 and tol=None. If tol is not None, max_iter defaults to max_iter=1000. From 0.21, default max_iter will be 1000, and default tol will be 1e-3.\n",
      "  \"and default tol will be 1e-3.\" % type(self), FutureWarning)\n"
     ]
    }
   ],
   "source": [
    "SGD_3 = SGDClassifier(loss = 'log', class_weight = 'balanced')\n",
    "print(SGD_3)\n",
    "SGD_3.fit(features_train, target_train)\n",
    "SGD_3_predicted=SGD_3.predict(features_test)\n",
    "expected = target_test\n",
    "print(\"SGD Accuracy\", accuracy_score(expected,SGD_3_predicted))\n",
    "print(classification_report(expected, SGD_3_predicted,target_names=['No', 'Yes']))\n",
    "print(confusion_matrix(expected, SGD_3_predicted))"
   ]
  },
  {
   "cell_type": "markdown",
   "metadata": {},
   "source": [
    "# Gradient Boost Classification"
   ]
  },
  {
   "cell_type": "markdown",
   "metadata": {},
   "source": [
    "### Gradient Boost 1"
   ]
  },
  {
   "cell_type": "markdown",
   "metadata": {},
   "source": [
    "Untuned"
   ]
  },
  {
   "cell_type": "code",
   "execution_count": 205,
   "metadata": {},
   "outputs": [
    {
     "name": "stdout",
     "output_type": "stream",
     "text": [
      "Gradient Boost Accuracy 0.8667144392690792\n",
      "             precision    recall  f1-score   support\n",
      "\n",
      "         No       0.89      0.95      0.92     14939\n",
      "        Yes       0.78      0.60      0.68      4598\n",
      "\n",
      "avg / total       0.86      0.87      0.86     19537\n",
      "\n",
      "[[14168   771]\n",
      " [ 1833  2765]]\n"
     ]
    }
   ],
   "source": [
    "from sklearn.ensemble import GradientBoostingClassifier\n",
    "GBC_1 = GradientBoostingClassifier()\n",
    "GBC_1.fit(features_train, target_train)\n",
    "GBC_1_predicted = GBC_1.predict(features_test)\n",
    "expected = target_test\n",
    "print(\"Gradient Boost Accuracy\", accuracy_score(expected,GBC_1_predicted))\n",
    "print(classification_report(expected, GBC_1_predicted,target_names=['No', 'Yes']))\n",
    "print(confusion_matrix(expected, GBC_1_predicted))\n",
    "\n"
   ]
  },
  {
   "cell_type": "markdown",
   "metadata": {},
   "source": [
    "The gradient boost classifier was significantly outperformed by the adaboost model. Gradient boost only had a positive class recall of .60 with .78 precision. The negative class metrics were quite high, resulting in a relatively high accuracy (.866). The overall accuracy rate does not make up for the less than desireable metrics of the positive class. "
   ]
  },
  {
   "cell_type": "markdown",
   "metadata": {},
   "source": [
    "### Gradient Boost 2"
   ]
  },
  {
   "cell_type": "markdown",
   "metadata": {},
   "source": [
    "Need to print model to decide tuning parameters."
   ]
  },
  {
   "cell_type": "code",
   "execution_count": 204,
   "metadata": {},
   "outputs": [
    {
     "name": "stdout",
     "output_type": "stream",
     "text": [
      "GradientBoostingClassifier(criterion='friedman_mse', init=None,\n",
      "              learning_rate=0.1, loss='deviance', max_depth=3,\n",
      "              max_features=None, max_leaf_nodes=None,\n",
      "              min_impurity_decrease=0.0, min_impurity_split=None,\n",
      "              min_samples_leaf=1, min_samples_split=2,\n",
      "              min_weight_fraction_leaf=0.0, n_estimators=100,\n",
      "              presort='auto', random_state=None, subsample=1.0, verbose=0,\n",
      "              warm_start=False)\n"
     ]
    }
   ],
   "source": [
    "print(GradientBoostingClassifier())"
   ]
  },
  {
   "cell_type": "code",
   "execution_count": 206,
   "metadata": {},
   "outputs": [
    {
     "name": "stdout",
     "output_type": "stream",
     "text": [
      "Gradient Boost Accuracy 0.8670215488560168\n",
      "             precision    recall  f1-score   support\n",
      "\n",
      "         No       0.90      0.93      0.91     14939\n",
      "        Yes       0.75      0.65      0.70      4598\n",
      "\n",
      "avg / total       0.86      0.87      0.86     19537\n",
      "\n",
      "[[13928  1011]\n",
      " [ 1587  3011]]\n"
     ]
    }
   ],
   "source": [
    "from sklearn.ensemble import GradientBoostingClassifier\n",
    "GBC_2 = GradientBoostingClassifier(learning_rate=.5,max_depth=5)\n",
    "GBC_2.fit(features_train, target_train)\n",
    "GBC_2_predicted = GBC_2.predict(features_test)\n",
    "expected = target_test\n",
    "print(\"Gradient Boost Accuracy\", accuracy_score(expected,GBC_2_predicted))\n",
    "print(classification_report(expected, GBC_2_predicted,target_names=['No', 'Yes']))\n",
    "print(confusion_matrix(expected, GBC_2_predicted))\n",
    "\n"
   ]
  },
  {
   "cell_type": "markdown",
   "metadata": {},
   "source": [
    "Increasing the learning rate and max_depth parameters seemed to improve the model. Positive class recall and precision increased, resulting in a F1 score of .70. Need to grid search to find best value."
   ]
  },
  {
   "cell_type": "markdown",
   "metadata": {},
   "source": [
    "#### Grid Search learning_rate"
   ]
  },
  {
   "cell_type": "code",
   "execution_count": 208,
   "metadata": {},
   "outputs": [
    {
     "name": "stdout",
     "output_type": "stream",
     "text": [
      "Time to run 14.974361999999928 seconds\n",
      "Scores {'mean_fit_time': array([19.25587447, 18.93903565, 18.75839845, 20.31092032, 23.06653341,\n",
      "       17.09752234]), 'std_fit_time': array([0.20204769, 0.662837  , 0.42305524, 0.46397959, 0.73585114,\n",
      "       3.03311984]), 'mean_score_time': array([0.05924757, 0.06090196, 0.06034915, 0.06690033, 0.06305997,\n",
      "       0.0705471 ]), 'std_score_time': array([0.01137305, 0.0062867 , 0.00775264, 0.01158964, 0.00366742,\n",
      "       0.01667832]), 'param_learning_rate': masked_array(data=[0.1, 0.5, 1, 1.5, 2, 2.5],\n",
      "             mask=[False, False, False, False, False, False],\n",
      "       fill_value='?',\n",
      "            dtype=object), 'params': [{'learning_rate': 0.1}, {'learning_rate': 0.5}, {'learning_rate': 1}, {'learning_rate': 1.5}, {'learning_rate': 2}, {'learning_rate': 2.5}], 'split0_test_score': array([0.868052  , 0.8729655 , 0.86917801, 0.84747671, 0.6429522 ,\n",
      "       0.6174634 ]), 'split1_test_score': array([0.86527437, 0.86875512, 0.86302211, 0.85083948, 0.73454136,\n",
      "       0.77538903]), 'split2_test_score': array([0.86343161, 0.86988124, 0.86302211, 0.85657248, 0.68673219,\n",
      "       0.68447993]), 'mean_test_score': array([0.86558608, 0.87053404, 0.86507422, 0.85162941, 0.68807371,\n",
      "       0.69244156]), 'std_test_score': array([0.00189911, 0.00177979, 0.00290197, 0.00375514, 0.03740347,\n",
      "       0.06471872]), 'rank_test_score': array([2, 1, 3, 4, 6, 5], dtype=int32), 'split0_train_score': array([0.86880631, 0.88795045, 0.88513514, 0.84884316, 0.64900696,\n",
      "       0.61808968]), 'split1_train_score': array([0.87132108, 0.89005477, 0.89389364, 0.85806419, 0.73680708,\n",
      "       0.77166402]), 'split2_train_score': array([0.87029738, 0.8895941 , 0.89292112, 0.86400164, 0.67830271,\n",
      "       0.67860982]), 'mean_train_score': array([0.87014159, 0.88919977, 0.89064997, 0.85696966, 0.68803892,\n",
      "       0.68945451]), 'std_train_score': array([0.00103255, 0.0009032 , 0.00391973, 0.00623663, 0.03649941,\n",
      "       0.06316368])}\n",
      "Best Score 0.8705340385599727\n",
      "Best Param {'learning_rate': 0.5}\n"
     ]
    }
   ],
   "source": [
    "param_grid = {\"learning_rate\": [.1,.5,1,1.5,2,2.5]}\n",
    "start_time = time.clock()\n",
    "\n",
    "# run grid search \n",
    "grid_search = GridSearchCV(GBC_1, param_grid=param_grid,n_jobs=-1)\n",
    "\n",
    "grid_search.fit(features_train, target_train)\n",
    "\n",
    "print(\"Time to run\", time.clock() - start_time, \"seconds\")\n",
    "print(\"Scores\", grid_search.cv_results_)\n",
    "print(\"Best Score\", grid_search.best_score_)\n",
    "print(\"Best Param\", grid_search.best_params_)"
   ]
  },
  {
   "cell_type": "markdown",
   "metadata": {},
   "source": [
    "The best learning rate value is .05 according to the grid search. Now we need to see what the best max_depth value is."
   ]
  },
  {
   "cell_type": "markdown",
   "metadata": {},
   "source": [
    "#### Grid Search max_depth"
   ]
  },
  {
   "cell_type": "code",
   "execution_count": 209,
   "metadata": {},
   "outputs": [
    {
     "name": "stdout",
     "output_type": "stream",
     "text": [
      "Time to run 26.238706000000093 seconds\n",
      "Scores {'mean_fit_time': array([13.23684128, 23.26123492, 31.63080152, 38.72426963, 48.30999207,\n",
      "       46.94985104]), 'std_fit_time': array([0.22008175, 0.39085287, 1.16192095, 1.56999897, 0.68689688,\n",
      "       7.52222928]), 'mean_score_time': array([0.09115767, 0.06827386, 0.0732828 , 0.07673573, 0.07520684,\n",
      "       0.04902363]), 'std_score_time': array([0.02046476, 0.02213254, 0.01137954, 0.00764054, 0.00295623,\n",
      "       0.0103844 ]), 'param_max_depth': masked_array(data=[2, 3, 4, 5, 6, 7],\n",
      "             mask=[False, False, False, False, False, False],\n",
      "       fill_value='?',\n",
      "            dtype=object), 'params': [{'max_depth': 2}, {'max_depth': 3}, {'max_depth': 4}, {'max_depth': 5}, {'max_depth': 6}, {'max_depth': 7}], 'split0_test_score': array([0.86242195, 0.86815437, 0.87306787, 0.87337496, 0.87317023,\n",
      "       0.87276077]), 'split1_test_score': array([0.86066749, 0.86537674, 0.86803849, 0.87151925, 0.86967649,\n",
      "       0.86936937]), 'split2_test_score': array([0.85851761, 0.86343161, 0.86844799, 0.87100737, 0.87121212,\n",
      "       0.87100737]), 'mean_test_score': array([0.86053574, 0.86565433, 0.86985156, 0.87196724, 0.87135301,\n",
      "       0.8710459 ]), 'std_test_score': array([0.00159667, 0.00193804, 0.00228052, 0.00101716, 0.0014298 ,\n",
      "       0.00138481]), 'rank_test_score': array([6, 5, 4, 1, 2, 3], dtype=int32), 'split0_train_score': array([0.86128174, 0.86824324, 0.87853194, 0.8848792 , 0.89209664,\n",
      "       0.90028665]), 'split1_train_score': array([0.86195424, 0.87132108, 0.88032963, 0.88713723, 0.89394482,\n",
      "       0.90295337]), 'split2_train_score': array([0.86308031, 0.87029738, 0.87746327, 0.88503864, 0.8936889 ,\n",
      "       0.90249271]), 'mean_train_score': array([0.86210543, 0.8699539 , 0.87877495, 0.88568502, 0.89324345,\n",
      "       0.90191091]), 'std_train_score': array([0.00074201, 0.00127978, 0.00118273, 0.00102892, 0.00081762,\n",
      "       0.00116382])}\n",
      "Best Score 0.871967241085139\n",
      "Best Param {'max_depth': 5}\n"
     ]
    }
   ],
   "source": [
    "param_grid = {\"max_depth\": [2,3,4,5,6,7]}\n",
    "start_time = time.clock()\n",
    "\n",
    "# run grid search \n",
    "grid_search = GridSearchCV(GBC_1, param_grid=param_grid,n_jobs=-1)\n",
    "\n",
    "grid_search.fit(features_train, target_train)\n",
    "\n",
    "print(\"Time to run\", time.clock() - start_time, \"seconds\")\n",
    "print(\"Scores\", grid_search.cv_results_)\n",
    "print(\"Best Score\", grid_search.best_score_)\n",
    "print(\"Best Param\", grid_search.best_params_)"
   ]
  },
  {
   "cell_type": "markdown",
   "metadata": {},
   "source": [
    "Best max_depth is 5. These optimal parameters are exactly what I put in Gradient Boost 2, by guessing. There is no need to make adjustments to these. I am curious how changing the number of estimators will affect the output, so we're going to run a third grid search."
   ]
  },
  {
   "cell_type": "markdown",
   "metadata": {},
   "source": [
    "#### Grid Search number of estimators"
   ]
  },
  {
   "cell_type": "code",
   "execution_count": 210,
   "metadata": {},
   "outputs": [
    {
     "name": "stdout",
     "output_type": "stream",
     "text": [
      "Time to run 59.15599799999973 seconds\n",
      "Scores {'mean_fit_time': array([18.69635296, 46.35900966, 67.7995917 , 86.09140674, 77.0262297 ]), 'std_fit_time': array([ 0.12680681,  3.94747637,  2.36147135,  2.01700978, 10.84394459]), 'mean_score_time': array([0.05779465, 0.18024397, 0.19499334, 0.21599905, 0.131061  ]), 'std_score_time': array([0.00734664, 0.03977338, 0.02617898, 0.04033223, 0.04048681]), 'param_n_estimators': masked_array(data=[100, 200, 300, 400, 500],\n",
      "             mask=[False, False, False, False, False],\n",
      "       fill_value='?',\n",
      "            dtype=object), 'params': [{'n_estimators': 100}, {'n_estimators': 200}, {'n_estimators': 300}, {'n_estimators': 400}, {'n_estimators': 500}], 'split0_test_score': array([0.86815437, 0.87235132, 0.87357969, 0.87286314, 0.87286314]), 'split1_test_score': array([0.86537674, 0.86711712, 0.86855037, 0.870086  , 0.86967649]), 'split2_test_score': array([0.86343161, 0.86977887, 0.87070025, 0.8704955 , 0.8713145 ]), 'mean_test_score': array([0.86565433, 0.86974919, 0.87094352, 0.87114827, 0.87128476]), 'std_test_score': array([0.00193804, 0.00213697, 0.00206042, 0.00122413, 0.00130112]), 'rank_test_score': array([5, 4, 3, 2, 1], dtype=int32), 'split0_train_score': array([0.86824324, 0.87771294, 0.88191032, 0.88493038, 0.88769451]), 'split1_train_score': array([0.87132108, 0.8797666 , 0.88345191, 0.8851922 , 0.88759789]), 'split2_train_score': array([0.87029738, 0.87777038, 0.88242821, 0.88524338, 0.8868813 ]), 'mean_train_score': array([0.8699539 , 0.87841664, 0.88259681, 0.88512199, 0.88739124]), 'std_train_score': array([0.00127978, 0.00095485, 0.00064054, 0.00013709, 0.00036273])}\n",
      "Best Score 0.8712847636922026\n",
      "Best Param {'n_estimators': 500}\n"
     ]
    }
   ],
   "source": [
    "param_grid = {\"n_estimators\": [100,200,300,400,500]}\n",
    "start_time = time.clock()\n",
    "\n",
    "# run grid search \n",
    "grid_search = GridSearchCV(GBC_1, param_grid=param_grid,n_jobs=-1)\n",
    "\n",
    "grid_search.fit(features_train, target_train)\n",
    "\n",
    "print(\"Time to run\", time.clock() - start_time, \"seconds\")\n",
    "print(\"Scores\", grid_search.cv_results_)\n",
    "print(\"Best Score\", grid_search.best_score_)\n",
    "print(\"Best Param\", grid_search.best_params_)"
   ]
  },
  {
   "cell_type": "markdown",
   "metadata": {},
   "source": [
    "The best number of estimators according to the grid search is 500. Now we will make a third gradient boost model with these tunings added."
   ]
  },
  {
   "cell_type": "markdown",
   "metadata": {},
   "source": [
    "### Gradient Boost 3"
   ]
  },
  {
   "cell_type": "code",
   "execution_count": 211,
   "metadata": {},
   "outputs": [
    {
     "name": "stdout",
     "output_type": "stream",
     "text": [
      "Gradient Boost Accuracy 0.8576035215232636\n",
      "             precision    recall  f1-score   support\n",
      "\n",
      "         No       0.89      0.92      0.91     14939\n",
      "        Yes       0.72      0.65      0.68      4598\n",
      "\n",
      "avg / total       0.85      0.86      0.85     19537\n",
      "\n",
      "[[13774  1165]\n",
      " [ 1617  2981]]\n"
     ]
    }
   ],
   "source": [
    "from sklearn.ensemble import GradientBoostingClassifier\n",
    "GBC_3 = GradientBoostingClassifier(learning_rate=.5,max_depth=5,n_estimators=500)\n",
    "GBC_3.fit(features_train, target_train)\n",
    "GBC_3_predicted = GBC_3.predict(features_test)\n",
    "expected = target_test\n",
    "print(\"Gradient Boost Accuracy\", accuracy_score(expected,GBC_3_predicted))\n",
    "print(classification_report(expected, GBC_3_predicted,target_names=['No', 'Yes']))\n",
    "print(confusion_matrix(expected, GBC_3_predicted))"
   ]
  },
  {
   "cell_type": "markdown",
   "metadata": {},
   "source": [
    "Surprisingly, the metrics of this model were not an improvement. Gradient Boost 2 is the best of the three. Now we'll cross-validate it to check its consistency. "
   ]
  },
  {
   "cell_type": "markdown",
   "metadata": {},
   "source": [
    "### Cross-validation for Gradient Boost 2"
   ]
  },
  {
   "cell_type": "code",
   "execution_count": 212,
   "metadata": {},
   "outputs": [
    {
     "name": "stdout",
     "output_type": "stream",
     "text": [
      "CV Score for each K [0.86932787 0.860116   0.8723985  0.8567042  0.87478676 0.86386899\n",
      " 0.86450512 0.86860068 0.86348123 0.86104473]\n",
      "CV mean score:  0.8654834075906189\n"
     ]
    }
   ],
   "source": [
    "# Will use K = 10\n",
    "GBC_2_CV_scores = cross_val_score(GBC_2, features_train, target_train, cv=10,scoring='accuracy')\n",
    "print('CV Score for each K', GBC_2_CV_scores)\n",
    "print('CV mean score: ', GBC_2_CV_scores.mean())  "
   ]
  },
  {
   "cell_type": "markdown",
   "metadata": {},
   "source": [
    "The CV scores are consistent, all falling within +/- .02 of the mean, which is .865. Despite this high accuracy, the Gradient Boost will be included with the Adaboost model as the best performers so far. "
   ]
  },
  {
   "cell_type": "markdown",
   "metadata": {},
   "source": [
    "# Neural Nets"
   ]
  },
  {
   "cell_type": "markdown",
   "metadata": {},
   "source": [
    "### ANN 1"
   ]
  },
  {
   "cell_type": "code",
   "execution_count": 240,
   "metadata": {},
   "outputs": [
    {
     "name": "stdout",
     "output_type": "stream",
     "text": [
      "Accuracy 0.8557608640016379\n",
      "             precision    recall  f1-score   support\n",
      "\n",
      "      <=50K       0.87      0.95      0.91     14939\n",
      "       >50K       0.78      0.54      0.64      4598\n",
      "\n",
      "avg / total       0.85      0.86      0.85     19537\n",
      "\n",
      "[[14235   704]\n",
      " [ 2114  2484]]\n"
     ]
    }
   ],
   "source": [
    "from sklearn.neural_network import MLPClassifier\n",
    "\n",
    "# Default parameters \n",
    "NN_1 =MLPClassifier(activation='relu', alpha=1e-05, batch_size='auto',\n",
    "       beta_1=0.9, beta_2=0.999, early_stopping=False,\n",
    "       epsilon=1e-08, hidden_layer_sizes=(15,), learning_rate='constant',\n",
    "       learning_rate_init=0.001, max_iter=200, momentum=0.9,\n",
    "       nesterovs_momentum=True, power_t=0.5, random_state=None, shuffle=True,\n",
    "       solver='adam', tol=0.0001, validation_fraction=0.1, verbose=False,\n",
    "       warm_start=False)\n",
    "#fit the model\n",
    "NN_1.fit(features_train, target_train)\n",
    "\n",
    "# test random forest model\n",
    "NN_1_predicted = NN_1.predict(features_test)\n",
    "print(\"Accuracy\", accuracy_score(target_test, NN_1_predicted))\n",
    "target_names = [\"<=50K\", \">50K\"]\n",
    "print(classification_report(target_test, NN_1_predicted, target_names=target_names))\n",
    "print(confusion_matrix(target_test, NN_1_predicted))"
   ]
  },
  {
   "cell_type": "markdown",
   "metadata": {},
   "source": [
    "The Neural Net performed on par with most of the models constructed so far, but did not match that of Adaboost or Gradient Boost. Let's tinker with the parameters."
   ]
  },
  {
   "cell_type": "markdown",
   "metadata": {},
   "source": [
    "### ANN 2"
   ]
  },
  {
   "cell_type": "code",
   "execution_count": 241,
   "metadata": {},
   "outputs": [
    {
     "name": "stdout",
     "output_type": "stream",
     "text": [
      "Accuracy 0.8551466448277627\n",
      "             precision    recall  f1-score   support\n",
      "\n",
      "      <=50K       0.87      0.96      0.91     14939\n",
      "       >50K       0.79      0.53      0.63      4598\n",
      "\n",
      "avg / total       0.85      0.86      0.84     19537\n",
      "\n",
      "[[14288   651]\n",
      " [ 2179  2419]]\n"
     ]
    }
   ],
   "source": [
    "NN_2 =MLPClassifier(activation='relu', alpha=1e-05, batch_size='auto',\n",
    "       beta_2=0.999, early_stopping=False,\n",
    "       epsilon=1e-08, hidden_layer_sizes=(100,50), learning_rate='constant',\n",
    "       learning_rate_init=0.001, max_iter=200, momentum=0.9,\n",
    "       nesterovs_momentum=True, power_t=0.5, random_state=None, shuffle=True,\n",
    "       solver='adam', tol=0.0001, validation_fraction=0.1, verbose=False,\n",
    "       warm_start=False)\n",
    "#fit the model\n",
    "NN_2.fit(features_train, target_train)\n",
    "\n",
    "# test random forest model\n",
    "NN_2_predicted = NN_2.predict(features_test)\n",
    "print(\"Accuracy\", accuracy_score(target_test, NN_2_predicted))\n",
    "target_names = [\"<=50K\", \">50K\"]\n",
    "print(classification_report(target_test, NN_2_predicted, target_names=target_names))\n",
    "print(confusion_matrix(target_test, NN_2_predicted))"
   ]
  },
  {
   "cell_type": "markdown",
   "metadata": {},
   "source": [
    "I cahnged the number of hidden layers from one layer with 15 nodes to two layers with 100 and 50 nodes. The positive class recall incresed by .02 while its precision decreased by .01, and negative class recall decreased by .01 and precision remained unchanged. Even though the average F1 score was unchanged and overall accuracy decreased very slightly, this second model is more desireable due to a significantly higher positive class recall. "
   ]
  },
  {
   "cell_type": "markdown",
   "metadata": {},
   "source": [
    "### ANN 3"
   ]
  },
  {
   "cell_type": "code",
   "execution_count": 239,
   "metadata": {},
   "outputs": [
    {
     "name": "stdout",
     "output_type": "stream",
     "text": [
      "Accuracy 0.8548395352408251\n",
      "             precision    recall  f1-score   support\n",
      "\n",
      "      <=50K       0.87      0.96      0.91     14939\n",
      "       >50K       0.80      0.51      0.63      4598\n",
      "\n",
      "avg / total       0.85      0.85      0.84     19537\n",
      "\n",
      "[[14337   602]\n",
      " [ 2234  2364]]\n"
     ]
    }
   ],
   "source": [
    "NN_3 =MLPClassifier(activation='relu', alpha=1e-05, batch_size='auto',\n",
    "       beta_2=0.999, early_stopping=False,\n",
    "       epsilon=1e-08, hidden_layer_sizes=(50,50), learning_rate='constant',\n",
    "       learning_rate_init=0.001, max_iter=300, momentum=0.9,\n",
    "       nesterovs_momentum=True, power_t=0.5, random_state=None, shuffle=True,\n",
    "       solver='adam', tol=0.0001, validation_fraction=0.1, verbose=False,\n",
    "       warm_start=False)\n",
    "#fit the model\n",
    "NN_3.fit(features_train, target_train)\n",
    "\n",
    "# test random forest model\n",
    "NN_3_predicted = NN_3.predict(features_test)\n",
    "print(\"Accuracy\", accuracy_score(target_test, NN_3_predicted))\n",
    "target_names = [\"<=50K\", \">50K\"]\n",
    "print(classification_report(target_test, NN_3_predicted, target_names=target_names))\n",
    "print(confusion_matrix(target_test, NN_3_predicted))"
   ]
  },
  {
   "cell_type": "markdown",
   "metadata": {},
   "source": [
    "Changing the number of nodes in the two hidden layers to 50 and 50 increased positive class recall by .05 and decreased its precision by .03. Negative class recall decreased by .02 with precision increasing by .03. The overall accuracy decreased only by .002 and the average F1 score remained unchanged. This model is preferable due to the higher positive class recall."
   ]
  },
  {
   "cell_type": "markdown",
   "metadata": {},
   "source": [
    "#### Cross-validate ANN 3"
   ]
  },
  {
   "cell_type": "code",
   "execution_count": 228,
   "metadata": {},
   "outputs": [
    {
     "name": "stdout",
     "output_type": "stream",
     "text": [
      "CV Score for each K [0.8618219  0.85090413 0.85568066 0.8461276  0.8618219  0.84680996\n",
      " 0.85767918 0.8559727  0.85426621 0.85046091]\n",
      "CV mean score:  0.8541545151792922\n"
     ]
    }
   ],
   "source": [
    "# Will use K = 10\n",
    "NN_3_CV_scores = cross_val_score(NN_3, features_train, target_train, cv=10,scoring='accuracy')\n",
    "print('CV Score for each K', NN_3_CV_scores)\n",
    "print('CV mean score: ', NN_3_CV_scores.mean())  "
   ]
  },
  {
   "cell_type": "markdown",
   "metadata": {},
   "source": [
    "This model has good consistency and is one of the better-performing models constructed so far. However, the gradient boost and adaboost models ill be preferred over it due to their higher metrics. The positive class recall in this model was particularly unfavorable. "
   ]
  },
  {
   "cell_type": "markdown",
   "metadata": {},
   "source": [
    "# Stacking revisited"
   ]
  },
  {
   "cell_type": "markdown",
   "metadata": {},
   "source": [
    "After constructing a few more ensembles, let's try another stacking model that includes the Gradient Boost model."
   ]
  },
  {
   "cell_type": "code",
   "execution_count": 274,
   "metadata": {},
   "outputs": [
    {
     "name": "stdout",
     "output_type": "stream",
     "text": [
      "f1_score: 0.84 (+/- 0.00) [Random Forest]\n",
      "f1_score: 0.84 (+/- 0.00) [Bagging Classifier]\n",
      "f1_score: 0.87 (+/- 0.00) [AdaBoost]\n",
      "f1_score: 0.86 (+/- 0.00) [Gradient Boost]\n"
     ]
    },
    {
     "name": "stderr",
     "output_type": "stream",
     "text": [
      "/Users/kristopherprofit/anaconda3/lib/python3.6/site-packages/sklearn/preprocessing/label.py:151: DeprecationWarning: The truth value of an empty array is ambiguous. Returning False, but in future this will result in an error. Use `array.size > 0` to check that an array is not empty.\n",
      "  if diff:\n",
      "/Users/kristopherprofit/anaconda3/lib/python3.6/site-packages/sklearn/preprocessing/label.py:151: DeprecationWarning: The truth value of an empty array is ambiguous. Returning False, but in future this will result in an error. Use `array.size > 0` to check that an array is not empty.\n",
      "  if diff:\n",
      "/Users/kristopherprofit/anaconda3/lib/python3.6/site-packages/sklearn/preprocessing/label.py:151: DeprecationWarning: The truth value of an empty array is ambiguous. Returning False, but in future this will result in an error. Use `array.size > 0` to check that an array is not empty.\n",
      "  if diff:\n",
      "/Users/kristopherprofit/anaconda3/lib/python3.6/site-packages/sklearn/preprocessing/label.py:151: DeprecationWarning: The truth value of an empty array is ambiguous. Returning False, but in future this will result in an error. Use `array.size > 0` to check that an array is not empty.\n",
      "  if diff:\n"
     ]
    },
    {
     "name": "stdout",
     "output_type": "stream",
     "text": [
      "f1_score: 0.86 (+/- 0.00) [Ensemble]\n"
     ]
    },
    {
     "name": "stderr",
     "output_type": "stream",
     "text": [
      "/Users/kristopherprofit/anaconda3/lib/python3.6/site-packages/sklearn/preprocessing/label.py:151: DeprecationWarning: The truth value of an empty array is ambiguous. Returning False, but in future this will result in an error. Use `array.size > 0` to check that an array is not empty.\n",
      "  if diff:\n"
     ]
    }
   ],
   "source": [
    "#Three Models RF_1, Bag_2, Boost_3, GBC_2\n",
    "\n",
    "Stack_4 = VotingClassifier(estimators=[('Random Forest', RF_1), ('Bagging Classifier', Bag_2), \n",
    "                                       ('Adaboost', Boost_3),('Gradient Boost', GBC_2)], voting='hard')\n",
    "for MV, label in zip([RF_1, Bag_2, Boost_3, GBC_2, Stack_4], ['Random Forest', 'Bagging Classifier', \n",
    "                                                'AdaBoost', 'Gradient Boost', 'Ensemble']):\n",
    "\n",
    "    Stack4_scores = cross_val_score(MV, features_train, target_train, cv=5, scoring='f1_weighted')\n",
    "    print(\"f1_score: %0.2f (+/- %0.2f) [%s]\" % (Stack4_scores.mean(), Stack4_scores.std(), label))"
   ]
  },
  {
   "cell_type": "markdown",
   "metadata": {},
   "source": [
    "This stacking model has one of the highest accuracies in the analysis, at .87. Despite this high score, the Adaboost 3 model is preferred due to the high comutational expense of the stacking model.  "
   ]
  },
  {
   "cell_type": "markdown",
   "metadata": {},
   "source": [
    "# Conclusion"
   ]
  },
  {
   "cell_type": "markdown",
   "metadata": {},
   "source": [
    "Judging by overall model accuracy and average F1 score, the best performer on this dataset was the Adaboost 3 model. i tuned this model to use 500 estimators to make its final predicton, as opposed to the default 100. Its overall accuracy was .87 with a mean cross-validation score of .87. The average F1 score was also .87. While this model did not have the highest recall for the positive class, it did have a relatively high precision. I noticed that this model had the most consistency when cross-validating, with all accuracy scores being within +/- .01 of the mean. This model not only had the highest F1 scores, but is also the most reliable to produce consistent results."
   ]
  },
  {
   "cell_type": "markdown",
   "metadata": {},
   "source": [
    "#### Metrics"
   ]
  },
  {
   "cell_type": "code",
   "execution_count": 229,
   "metadata": {},
   "outputs": [
    {
     "name": "stdout",
     "output_type": "stream",
     "text": [
      "Adaboost Accuracy 0.8706044940369555\n",
      "             precision    recall  f1-score   support\n",
      "\n",
      "         No       0.90      0.94      0.92     14939\n",
      "        Yes       0.77      0.64      0.70      4598\n",
      "\n",
      "avg / total       0.87      0.87      0.87     19537\n",
      "\n"
     ]
    }
   ],
   "source": [
    "# Adaboost 3\n",
    "print(\"Adaboost Accuracy\", accuracy_score(expected,Boost_3_predicted))\n",
    "print(classification_report(expected, Boost_3_predicted,target_names=['No', 'Yes']))"
   ]
  },
  {
   "cell_type": "markdown",
   "metadata": {},
   "source": [
    "#### Confusion Matrix"
   ]
  },
  {
   "cell_type": "code",
   "execution_count": 234,
   "metadata": {},
   "outputs": [
    {
     "name": "stdout",
     "output_type": "stream",
     "text": [
      "[[14051   888]\n",
      " [ 1640  2958]]\n"
     ]
    },
    {
     "data": {
      "image/png": "[encoded data removed]",
      "text/plain": [
       "<matplotlib.figure.Figure at 0x10fb82400>"
      ]
     },
     "metadata": {},
     "output_type": "display_data"
    }
   ],
   "source": [
    "# AdBoostoost 3\n",
    "Boost_3_cm = confusion_matrix(target_test, Boost_3_predicted)\n",
    "plt.matshow(Boost_3_cm)\n",
    "plt.title('Adaboost 3 Confusion matrix')\n",
    "plt.colorbar()\n",
    "plt.ylabel('True label')\n",
    "plt.xlabel('Predicted label')\n",
    "print(Boost_3_cm)"
   ]
  },
  {
   "cell_type": "markdown",
   "metadata": {},
   "source": [
    "#### ROC curve"
   ]
  },
  {
   "cell_type": "code",
   "execution_count": 236,
   "metadata": {},
   "outputs": [
    {
     "name": "stdout",
     "output_type": "stream",
     "text": [
      "ROC AUC: 0.926\n"
     ]
    },
    {
     "data": {
      "image/png": "[encoded data removed]",
      "text/plain": [
       "<matplotlib.figure.Figure at 0x1a23b4c198>"
      ]
     },
     "metadata": {},
     "output_type": "display_data"
    }
   ],
   "source": [
    "# Adaboost 3\n",
    "\n",
    "# Determine the false positive and true positive rates\n",
    "fpr, tpr, _ = roc_curve(target_test, Boost_3.predict_proba(features_test)[:,1]) \n",
    "    \n",
    "# Calculate the AUC\n",
    "roc_auc = auc(fpr, tpr)\n",
    "print('ROC AUC: %0.3f' % roc_auc)\n",
    " \n",
    "# Plot of a ROC curve for a specific class\n",
    "plt.figure()\n",
    "plt.plot(fpr, tpr, label='ROC curve (area = %0.3f)' % roc_auc)\n",
    "plt.plot([0, 1], [0, 1], 'k--')\n",
    "plt.xlim([0.0, 1.0])\n",
    "plt.ylim([0.0, 1.05])\n",
    "plt.xlabel('False Positive Rate')\n",
    "plt.ylabel('True Positive Rate')\n",
    "plt.title('ROC Curve')\n",
    "plt.legend(loc=\"lower right\")\n",
    "plt.show()"
   ]
  },
  {
   "cell_type": "markdown",
   "metadata": {},
   "source": [
    "#### Importance of each predictor"
   ]
  },
  {
   "cell_type": "code",
   "execution_count": 249,
   "metadata": {},
   "outputs": [
    {
     "name": "stdout",
     "output_type": "stream",
     "text": [
      "Features sorted by their score:\n",
      "Higher the more important\n",
      "[(0.454, 'capital-gain'), (0.284, 'capital-loss'), (0.078, 'age'), (0.024, 'hours-per-week'), (0.012, 'education-num'), (0.002, 'workclass_ Self-emp-not-inc'), (0.002, 'workclass_ Self-emp-inc'), (0.002, 'workclass_ Private'), (0.002, 'workclass_ Federal-gov'), (0.0, 'workclass_ State-gov'), (0.0, 'workclass_ Never-worked'), (0.0, 'workclass_ Local-gov'), (0.0, 'workclass_ ?')]\n"
     ]
    }
   ],
   "source": [
    "print(\"Features sorted by their score:\")\n",
    "print(\"Higher the more important\")\n",
    "print(sorted(zip(map(lambda x: round(x, 4), Boost_3.feature_importances_),Adult.columns[1:14]), \n",
    "             reverse=True))"
   ]
  },
  {
   "cell_type": "markdown",
   "metadata": {},
   "source": [
    "The importance of predictors in the Adaboost 3 model was similar, though in a different order than the random forest model. Adaboost listed capital gain and capital loss as explaining 45.4% and 28.4% of variance in whether or not a person makes over 50K a year, respectively. This makes intuitive sense, as the ability to realize capital gain or loss is based on one's ability to save and invest money. This suggests that those instances that have higher values of capital gain or loss are more likely to earn more than 50K per year and engage in investment activity. Age explains 7.8 percent of the variance in the data and is an intuitive indicator of one's income- the more years of experience someone has, the more likely they are to earn more than 50K. Hours worked per week explained 2.4 percent of the variance. This is an obvious and direct contributor to one's income. Education level explained 1.2 percent of the variance- another intuitive indicator of income, as higher education usually leads to more lucrative vocations. "
   ]
  }
 ],
 "metadata": {
  "kernelspec": {
   "display_name": "Python 3",
   "language": "python",
   "name": "python3"
  },
  "language_info": {
   "codemirror_mode": {
    "name": "ipython",
    "version": 3
   },
   "file_extension": ".py",
   "mimetype": "text/x-python",
   "name": "python",
   "nbconvert_exporter": "python",
   "pygments_lexer": "ipython3",
   "version": "3.6.4"
  }
 },
 "nbformat": 4,
 "nbformat_minor": 2
}
